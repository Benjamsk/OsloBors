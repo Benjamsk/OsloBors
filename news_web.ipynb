{
 "cells": [
  {
   "cell_type": "code",
   "execution_count": 3,
   "metadata": {
    "collapsed": true
   },
   "outputs": [],
   "source": [
    "import pandas as pd\n",
    "import numpy as np\n",
    "import json\n",
    "import time"
   ]
  },
  {
   "cell_type": "code",
   "execution_count": 4,
   "metadata": {
    "collapsed": true
   },
   "outputs": [],
   "source": [
    "import pymongo\n",
    "from pymongo import MongoClient"
   ]
  },
  {
   "cell_type": "code",
   "execution_count": 5,
   "metadata": {
    "collapsed": true
   },
   "outputs": [],
   "source": [
    "#Setup MongoDB\n",
    "#Switch on my file server then run in bash: mongod --dbpath /Volumes/Data/David_Files/data/db/\n",
    "client = MongoClient()\n",
    "db = client.oslo_bors\n",
    "collection = db.newsweb\n",
    "collectionStocks = db.stocks"
   ]
  },
  {
   "cell_type": "code",
   "execution_count": 8,
   "metadata": {
    "collapsed": false
   },
   "outputs": [
    {
     "name": "stdout",
     "output_type": "stream",
     "text": [
      "Article  300000  Date:  02.03.2012 16:21\n",
      "Elapsed Seconds:  0.444709062576\n",
      "Article  299537  Date:  27.02.2012 17:36\n",
      "Elapsed Seconds:  187.338490963\n",
      "Article  299536  Date:  27.02.2012 17:35\n",
      "Elapsed Seconds:  188.11916995\n",
      "Article  299535  Date:  27.02.2012 17:33\n",
      "Elapsed Seconds:  188.554002047\n",
      "Article  299534  Date:  27.02.2012 16:56\n",
      "Elapsed Seconds:  189.349781036\n"
     ]
    },
    {
     "ename": "HTTPError",
     "evalue": "HTTP Error 500: Server Error",
     "output_type": "error",
     "traceback": [
     ]
    }
   ],
   "source": [
    "#collection.remove()\n",
    "start_time = time.time()\n",
    "#Scrapped range 387627:299534\n",
    "for i in range(299533,290000,-1):\n",
    "    url = \"http://www.newsweb.no/newsweb/search.do?messageId=%d\" %i\n",
    "    data = pd.read_html(url)\n",
    "    df = data[5]\n",
    "    if pd.isnull(df.loc[1][1]):\n",
    "        pass\n",
    "    else:\n",
    "        \n",
    "        print \"Article \", i, \" Date: \", df.loc[1][1]\n",
    "        print \"Elapsed Seconds: \", time.time() - start_time\n",
    "        df = df[[0,1]]\n",
    "        df = df.set_index(df[0])\n",
    "        df = df.drop(0,1)\n",
    "        df.index.name = None\n",
    "        df = df.transpose()\n",
    "        df.columns = df.columns.str.replace('.','-')\n",
    "        df.columns = df.columns.str.replace('$','-')\n",
    "        \n",
    "        #Store the data in the mongoDB\n",
    "        records = json.loads(df.T.to_json(date_format='iso')).values() #Convert dataframe to json\n",
    "        collection.insert(records)"
   ]
  },
  {
   "cell_type": "code",
   "execution_count": 4,
   "metadata": {
    "collapsed": false
   },
   "outputs": [
    {
     "data": {
      "text/plain": [
       "311"
      ]
     },
     "execution_count": 4,
     "metadata": {},
     "output_type": "execute_result"
    }
   ],
   "source": [
    "collection.count({ 'UtstederID':\"EVRY\" })"
   ]
  },
  {
   "cell_type": "code",
   "execution_count": 11,
   "metadata": {
    "collapsed": false
   },
   "outputs": [
    {
     "data": {
      "text/plain": [
       "{u'Dato/tid': u'22.10.2015 16:26',\n",
       " u'Informasjonspliktig': u'Nei',\n",
       " u'Instrument': None,\n",
       " u'Kategori': u'SLUTTKURSER DERIVATER',\n",
       " u'Marked': u'OB',\n",
       " u'MeldingsID:\\xa0387624  Generer PDF': None,\n",
       " u'Tekst': u'OBX5K\\t552.31 OBX5L\\t552.78 OBX6A\\t553.45 OBX6C\\t554.46 OBX6F\\t556.12 OBX6I\\t557.84',\n",
       " u'Tittel': u'OSLO B\\xd8RS - CLOSING PRICES OBX FUTURES',\n",
       " u'Utsteder': u'Oslo B\\xf8rs',\n",
       " u'UtstederID': u'-',\n",
       " u'Vedlegg': None,\n",
       " u'_id': ObjectId('56291b65c3b5a00221303037')}"
      ]
     },
     "execution_count": 11,
     "metadata": {},
     "output_type": "execute_result"
    }
   ],
   "source": [
    "collection.find_one()"
   ]
  },
  {
   "cell_type": "code",
   "execution_count": 6,
   "metadata": {
    "collapsed": false
   },
   "outputs": [],
   "source": [
    "scraped_tickers = collectionStocks.distinct(\"Ticker\")"
   ]
  },
  {
   "cell_type": "markdown",
   "metadata": {},
   "source": [
    "We retrive the data for each stock we have scraped data for and save it to a panda dataframe called temp_frame. This dataframe is then added to table_list, ceasting a list of all our stock panda dataframes."
   ]
  },
  {
   "cell_type": "code",
   "execution_count": 7,
   "metadata": {
    "collapsed": false
   },
   "outputs": [],
   "source": [
    "table_list = []\n",
    "\n",
    "for i in scraped_tickers:\n",
    "    cursor = collectionStocks.find({\"Ticker\": i})\n",
    "    temp_frame = pd.DataFrame(list(cursor))\n",
    "    \n",
    "    #Do some dataframe setup, turn Date back into datetime and make it the index\n",
    "    temp_frame['Date'] = pd.to_datetime(temp_frame['Date'])\n",
    "    #temp_frame = temp_frame.set_index(['Date'])\n",
    "    #temp_frame = temp_frame.sort_index()\n",
    "    \n",
    "    #Create an extran column called \"Daily Return\"\n",
    "    temp_frame['Daily return'] = temp_frame['Last'].pct_change()\n",
    "    \n",
    "    table_list.append(temp_frame)\n"
   ]
  },
  {
   "cell_type": "markdown",
   "metadata": {},
   "source": [
    "Next we take our list of  panda dataframes and concat them."
   ]
  },
  {
   "cell_type": "code",
   "execution_count": 8,
   "metadata": {
    "collapsed": false
   },
   "outputs": [],
   "source": [
    "stock_table = pd.concat(table_list)\n",
    "stock_table = stock_table[['Ticker','Daily return','Date']]\n",
    "stock_table = stock_table.sort(['Date'])"
   ]
  },
  {
   "cell_type": "code",
   "execution_count": 9,
   "metadata": {
    "collapsed": false
   },
   "outputs": [],
   "source": [
    "time_shift = [1,5,10,20,30]\n",
    "\n",
    "for time in time_shift:\n",
    "    shift_list = []\n",
    "    gouped_stock = stock_table.groupby(['Ticker'])\n",
    "    \n",
    "    for name, group in gouped_stock:\n",
    "        temp_frame = group.copy()\n",
    "        temp_frame = temp_frame.sort(['Date'])\n",
    "        temp_frame.Date = temp_frame.Date.shift(time)\n",
    "        shift_list.append(temp_frame)\n",
    "    \n",
    "    globals()['stock_table_%d_days' % time] = pd.concat(shift_list)"
   ]
  },
  {
   "cell_type": "code",
   "execution_count": 10,
   "metadata": {
    "collapsed": true
   },
   "outputs": [],
   "source": [
    "cursor = collection.find({'UtstederID':{\n",
    "            \"$in\": scraped_tickers #Get values where UtstederID is in '$in' the scraped ticker list\n",
    "        }\n",
    "        }, { 'UtstederID': 1,'Dato/tid':1, 'Tekst':1})\n",
    "#len(list(cursor))\n",
    "text_table = pd.DataFrame(list(cursor))"
   ]
  },
  {
   "cell_type": "code",
   "execution_count": 11,
   "metadata": {
    "collapsed": true
   },
   "outputs": [],
   "source": [
    "#Turn the data/tid into a datetime and then normalize, eg. remove the time leaving just the date\n",
    "text_table['Dato/tid'] = pd.to_datetime(text_table['Dato/tid'])\n",
    "text_table['Dato/tid'] = pd.DatetimeIndex(text_table['Dato/tid']).normalize()\n",
    "text_table = text_table.rename(columns={'Dato/tid':'Date', 'UtstederID':'Ticker','Tekst':'Text'})"
   ]
  },
  {
   "cell_type": "code",
   "execution_count": 13,
   "metadata": {
    "collapsed": false
   },
   "outputs": [
    {
     "data": {
      "text/html": [
       "<div style=\"max-height:1000px;max-width:1500px;overflow:auto;\">\n",
       "<table border=\"1\" class=\"dataframe\">\n",
       "  <thead>\n",
       "    <tr style=\"text-align: right;\">\n",
       "      <th></th>\n",
       "      <th>Ticker</th>\n",
       "      <th>Daily return</th>\n",
       "      <th>Date</th>\n",
       "    </tr>\n",
       "  </thead>\n",
       "  <tbody>\n",
       "    <tr>\n",
       "      <th>737</th>\n",
       "      <td>AKA</td>\n",
       "      <td>-0.262803</td>\n",
       "      <td>NaT</td>\n",
       "    </tr>\n",
       "    <tr>\n",
       "      <th>1066</th>\n",
       "      <td>AKA</td>\n",
       "      <td>-0.208939</td>\n",
       "      <td>2010-10-07</td>\n",
       "    </tr>\n",
       "    <tr>\n",
       "      <th>777</th>\n",
       "      <td>AKA</td>\n",
       "      <td>-0.194387</td>\n",
       "      <td>2010-10-08</td>\n",
       "    </tr>\n",
       "    <tr>\n",
       "      <th>779</th>\n",
       "      <td>AKA</td>\n",
       "      <td>-0.012821</td>\n",
       "      <td>2010-10-11</td>\n",
       "    </tr>\n",
       "    <tr>\n",
       "      <th>1071</th>\n",
       "      <td>AKA</td>\n",
       "      <td>-0.011990</td>\n",
       "      <td>2010-10-12</td>\n",
       "    </tr>\n",
       "  </tbody>\n",
       "</table>\n",
       "</div>"
      ],
      "text/plain": [
       "     Ticker  Daily return       Date\n",
       "737     AKA     -0.262803        NaT\n",
       "1066    AKA     -0.208939 2010-10-07\n",
       "777     AKA     -0.194387 2010-10-08\n",
       "779     AKA     -0.012821 2010-10-11\n",
       "1071    AKA     -0.011990 2010-10-12"
      ]
     },
     "execution_count": 13,
     "metadata": {},
     "output_type": "execute_result"
    }
   ],
   "source": [
    "stock_table_1_days[stock_table_1_days['Ticker']=='AKA'].head()"
   ]
  },
  {
   "cell_type": "code",
   "execution_count": 14,
   "metadata": {
    "collapsed": false
   },
   "outputs": [
    {
     "data": {
      "text/html": [
       "<div style=\"max-height:1000px;max-width:1500px;overflow:auto;\">\n",
       "<table border=\"1\" class=\"dataframe\">\n",
       "  <thead>\n",
       "    <tr style=\"text-align: right;\">\n",
       "      <th></th>\n",
       "      <th>Ticker</th>\n",
       "      <th>Daily return</th>\n",
       "      <th>Date</th>\n",
       "    </tr>\n",
       "  </thead>\n",
       "  <tbody>\n",
       "    <tr>\n",
       "      <th>737</th>\n",
       "      <td>AKA</td>\n",
       "      <td>-0.262803</td>\n",
       "      <td>2010-10-07</td>\n",
       "    </tr>\n",
       "    <tr>\n",
       "      <th>1066</th>\n",
       "      <td>AKA</td>\n",
       "      <td>-0.208939</td>\n",
       "      <td>2010-10-08</td>\n",
       "    </tr>\n",
       "    <tr>\n",
       "      <th>777</th>\n",
       "      <td>AKA</td>\n",
       "      <td>-0.194387</td>\n",
       "      <td>2010-10-11</td>\n",
       "    </tr>\n",
       "    <tr>\n",
       "      <th>779</th>\n",
       "      <td>AKA</td>\n",
       "      <td>-0.012821</td>\n",
       "      <td>2010-10-12</td>\n",
       "    </tr>\n",
       "    <tr>\n",
       "      <th>1071</th>\n",
       "      <td>AKA</td>\n",
       "      <td>-0.011990</td>\n",
       "      <td>2010-10-13</td>\n",
       "    </tr>\n",
       "  </tbody>\n",
       "</table>\n",
       "</div>"
      ],
      "text/plain": [
       "     Ticker  Daily return       Date\n",
       "737     AKA     -0.262803 2010-10-07\n",
       "1066    AKA     -0.208939 2010-10-08\n",
       "777     AKA     -0.194387 2010-10-11\n",
       "779     AKA     -0.012821 2010-10-12\n",
       "1071    AKA     -0.011990 2010-10-13"
      ]
     },
     "execution_count": 14,
     "metadata": {},
     "output_type": "execute_result"
    }
   ],
   "source": [
    "stock_table[stock_table['Ticker']=='AKA'].head()"
   ]
  },
  {
   "cell_type": "code",
   "execution_count": 65,
   "metadata": {
    "collapsed": false
   },
   "outputs": [],
   "source": [
    "#text_table = text_table.set_index(['Dato/tid'])"
   ]
  },
  {
   "cell_type": "code",
   "execution_count": 12,
   "metadata": {
    "collapsed": false
   },
   "outputs": [],
   "source": [
    "#0 day shift\n",
    "merged_table = pd.merge(stock_table, text_table, how='left', on=['Date','Ticker'])\n",
    "merged_table = merged_table.dropna(subset=['Daily return'])\n",
    "merged_table = merged_table.dropna()\n",
    "merged_table = merged_table.reset_index()"
   ]
  },
  {
   "cell_type": "code",
   "execution_count": 13,
   "metadata": {
    "collapsed": false
   },
   "outputs": [],
   "source": [
    "#1 day shift\n",
    "merged_table_1day = pd.merge(stock_table_1_days, text_table, how='left', on=['Date','Ticker'])\n",
    "merged_table_1day = merged_table_1day.dropna(subset=['Daily return'])\n",
    "merged_table_1day = merged_table_1day.dropna()\n",
    "merged_table_1day = merged_table_1day.reset_index()"
   ]
  },
  {
   "cell_type": "code",
   "execution_count": 181,
   "metadata": {
    "collapsed": false
   },
   "outputs": [
    {
     "data": {
      "text/html": [
       "<div style=\"max-height:1000px;max-width:1500px;overflow:auto;\">\n",
       "<table border=\"1\" class=\"dataframe\">\n",
       "  <thead>\n",
       "    <tr style=\"text-align: right;\">\n",
       "      <th></th>\n",
       "      <th>index</th>\n",
       "      <th>Ticker</th>\n",
       "      <th>Daily return</th>\n",
       "      <th>Date</th>\n",
       "      <th>Text</th>\n",
       "      <th>_id</th>\n",
       "    </tr>\n",
       "  </thead>\n",
       "  <tbody>\n",
       "    <tr>\n",
       "      <th>28918</th>\n",
       "      <td>191673</td>\n",
       "      <td>AUSS</td>\n",
       "      <td>0.468579</td>\n",
       "      <td>2015-10-07</td>\n",
       "      <td>New bond issue to be listed on Oslo Børs on th...</td>\n",
       "      <td>56292503c3b5a002213045d5</td>\n",
       "    </tr>\n",
       "    <tr>\n",
       "      <th>28919</th>\n",
       "      <td>191674</td>\n",
       "      <td>AUSS</td>\n",
       "      <td>0.468579</td>\n",
       "      <td>2015-10-07</td>\n",
       "      <td>Oslo Børs - obligasjonslån til notering på Osl...</td>\n",
       "      <td>56292503c3b5a002213045d6</td>\n",
       "    </tr>\n",
       "    <tr>\n",
       "      <th>28920</th>\n",
       "      <td>191688</td>\n",
       "      <td>OLT</td>\n",
       "      <td>0.209748</td>\n",
       "      <td>2015-10-07</td>\n",
       "      <td>Oslo Børs has received an application for ISIN...</td>\n",
       "      <td>562924f5c3b5a002213045b2</td>\n",
       "    </tr>\n",
       "    <tr>\n",
       "      <th>28921</th>\n",
       "      <td>191689</td>\n",
       "      <td>OLT</td>\n",
       "      <td>0.209748</td>\n",
       "      <td>2015-10-07</td>\n",
       "      <td>Oslo Børs har mottatt søknad om børsnotering a...</td>\n",
       "      <td>562924f5c3b5a002213045b3</td>\n",
       "    </tr>\n",
       "    <tr>\n",
       "      <th>28922</th>\n",
       "      <td>191705</td>\n",
       "      <td>OCY</td>\n",
       "      <td>0.707474</td>\n",
       "      <td>2015-10-07</td>\n",
       "      <td>Please find attached the Q2 2015 presentation ...</td>\n",
       "      <td>56292505c3b5a002213045db</td>\n",
       "    </tr>\n",
       "  </tbody>\n",
       "</table>\n",
       "</div>"
      ],
      "text/plain": [
       "        index Ticker  Daily return       Date  \\\n",
       "28918  191673   AUSS      0.468579 2015-10-07   \n",
       "28919  191674   AUSS      0.468579 2015-10-07   \n",
       "28920  191688    OLT      0.209748 2015-10-07   \n",
       "28921  191689    OLT      0.209748 2015-10-07   \n",
       "28922  191705    OCY      0.707474 2015-10-07   \n",
       "\n",
       "                                                    Text  \\\n",
       "28918  New bond issue to be listed on Oslo Børs on th...   \n",
       "28919  Oslo Børs - obligasjonslån til notering på Osl...   \n",
       "28920  Oslo Børs has received an application for ISIN...   \n",
       "28921  Oslo Børs har mottatt søknad om børsnotering a...   \n",
       "28922  Please find attached the Q2 2015 presentation ...   \n",
       "\n",
       "                            _id  \n",
       "28918  56292503c3b5a002213045d5  \n",
       "28919  56292503c3b5a002213045d6  \n",
       "28920  562924f5c3b5a002213045b2  \n",
       "28921  562924f5c3b5a002213045b3  \n",
       "28922  56292505c3b5a002213045db  "
      ]
     },
     "execution_count": 181,
     "metadata": {},
     "output_type": "execute_result"
    }
   ],
   "source": [
    "merged_table.tail()"
   ]
  },
  {
   "cell_type": "code",
   "execution_count": 182,
   "metadata": {
    "collapsed": false
   },
   "outputs": [
    {
     "data": {
      "text/html": [
       "<div style=\"max-height:1000px;max-width:1500px;overflow:auto;\">\n",
       "<table border=\"1\" class=\"dataframe\">\n",
       "  <thead>\n",
       "    <tr style=\"text-align: right;\">\n",
       "      <th></th>\n",
       "      <th>index</th>\n",
       "      <th>Ticker</th>\n",
       "      <th>Daily return</th>\n",
       "      <th>Date</th>\n",
       "      <th>Text</th>\n",
       "      <th>_id</th>\n",
       "    </tr>\n",
       "  </thead>\n",
       "  <tbody>\n",
       "    <tr>\n",
       "      <th>28674</th>\n",
       "      <td>191659</td>\n",
       "      <td>ZAL</td>\n",
       "      <td>0.006061</td>\n",
       "      <td>2015-08-18</td>\n",
       "      <td>Zalaris will publish its second quarter result...</td>\n",
       "      <td>56292236c3b5a00221303f5c</td>\n",
       "    </tr>\n",
       "    <tr>\n",
       "      <th>28675</th>\n",
       "      <td>191661</td>\n",
       "      <td>ZAL</td>\n",
       "      <td>0.003030</td>\n",
       "      <td>2015-08-20</td>\n",
       "      <td>On August 20th 2015, Peter T. Gogstad has sold...</td>\n",
       "      <td>562921abc3b5a00221303e0e</td>\n",
       "    </tr>\n",
       "    <tr>\n",
       "      <th>28676</th>\n",
       "      <td>191662</td>\n",
       "      <td>ZAL</td>\n",
       "      <td>0.003030</td>\n",
       "      <td>2015-08-20</td>\n",
       "      <td>Record half-year results for Zalaris Zalaris d...</td>\n",
       "      <td>562921e2c3b5a00221303e94</td>\n",
       "    </tr>\n",
       "    <tr>\n",
       "      <th>28677</th>\n",
       "      <td>191672</td>\n",
       "      <td>ZAL</td>\n",
       "      <td>0.014493</td>\n",
       "      <td>2015-09-03</td>\n",
       "      <td>On the 6th and 9th of March 2015, Peter T. Gog...</td>\n",
       "      <td>5629386ac3b5a0022130671d</td>\n",
       "    </tr>\n",
       "    <tr>\n",
       "      <th>28678</th>\n",
       "      <td>191679</td>\n",
       "      <td>ZAL</td>\n",
       "      <td>0.008287</td>\n",
       "      <td>2015-09-14</td>\n",
       "      <td>First agreement with state-owned company for Z...</td>\n",
       "      <td>56291f7ec3b5a002213038b5</td>\n",
       "    </tr>\n",
       "  </tbody>\n",
       "</table>\n",
       "</div>"
      ],
      "text/plain": [
       "        index Ticker  Daily return       Date  \\\n",
       "28674  191659    ZAL      0.006061 2015-08-18   \n",
       "28675  191661    ZAL      0.003030 2015-08-20   \n",
       "28676  191662    ZAL      0.003030 2015-08-20   \n",
       "28677  191672    ZAL      0.014493 2015-09-03   \n",
       "28678  191679    ZAL      0.008287 2015-09-14   \n",
       "\n",
       "                                                    Text  \\\n",
       "28674  Zalaris will publish its second quarter result...   \n",
       "28675  On August 20th 2015, Peter T. Gogstad has sold...   \n",
       "28676  Record half-year results for Zalaris Zalaris d...   \n",
       "28677  On the 6th and 9th of March 2015, Peter T. Gog...   \n",
       "28678  First agreement with state-owned company for Z...   \n",
       "\n",
       "                            _id  \n",
       "28674  56292236c3b5a00221303f5c  \n",
       "28675  562921abc3b5a00221303e0e  \n",
       "28676  562921e2c3b5a00221303e94  \n",
       "28677  5629386ac3b5a0022130671d  \n",
       "28678  56291f7ec3b5a002213038b5  "
      ]
     },
     "execution_count": 182,
     "metadata": {},
     "output_type": "execute_result"
    }
   ],
   "source": [
    "merged_table_1day.tail()"
   ]
  },
  {
   "cell_type": "code",
   "execution_count": 14,
   "metadata": {
    "collapsed": false
   },
   "outputs": [
    {
     "name": "stdout",
     "output_type": "stream",
     "text": [
      "[u'i', u'me', u'my', u'myself', u'we', u'our', u'ours', u'ourselves', u'you', u'your', u'yours', u'yourself', u'yourselves', u'he', u'him', u'his', u'himself', u'she', u'her', u'hers', u'herself', u'it', u'its', u'itself', u'they', u'them', u'their', u'theirs', u'themselves', u'what', u'which', u'who', u'whom', u'this', u'that', u'these', u'those', u'am', u'is', u'are', u'was', u'were', u'be', u'been', u'being', u'have', u'has', u'had', u'having', u'do', u'does', u'did', u'doing', u'a', u'an', u'the', u'and', u'but', u'if', u'or', u'because', u'as', u'until', u'while', u'of', u'at', u'by', u'for', u'with', u'about', u'against', u'between', u'into', u'through', u'during', u'before', u'after', u'above', u'below', u'to', u'from', u'up', u'down', u'in', u'out', u'on', u'off', u'over', u'under', u'again', u'further', u'then', u'once', u'here', u'there', u'when', u'where', u'why', u'how', u'all', u'any', u'both', u'each', u'few', u'more', u'most', u'other', u'some', u'such', u'no', u'nor', u'not', u'only', u'own', u'same', u'so', u'than', u'too', u'very', u's', u't', u'can', u'will', u'just', u'don', u'should', u'now']\n"
     ]
    }
   ],
   "source": [
    "import re\n",
    "import nltk\n",
    "#nltk.download()  # Download text data sets, including stop words\n",
    "from nltk.corpus import stopwords # Import the stop word list\n",
    "print stopwords.words(\"english\") "
   ]
  },
  {
   "cell_type": "code",
   "execution_count": 15,
   "metadata": {
    "collapsed": false
   },
   "outputs": [],
   "source": [
    "merged_table_1day['No_punc'] = merged_table_1day['Text'].str.lower() #All lower case\n",
    "merged_table_1day['No_punc'] = merged_table_1day['No_punc'].str.replace('[^a-zA-Z]',' ') #Remove punc\n",
    "merged_table_1day['No_punc'] = merged_table_1day['No_punc'].str.split() #Tokenize"
   ]
  },
  {
   "cell_type": "code",
   "execution_count": 16,
   "metadata": {
    "collapsed": true
   },
   "outputs": [],
   "source": [
    "def stopwords(x):\n",
    "    from nltk.corpus import stopwords # Import the stop word list\n",
    "    stops = set(stopwords.words(\"english\"))\n",
    "    word_list = []\n",
    "    for word in x:\n",
    "        if not word in stops:\n",
    "            word_list.append(word)\n",
    "    return( \" \".join( word_list)) "
   ]
  },
  {
   "cell_type": "code",
   "execution_count": 17,
   "metadata": {
    "collapsed": false
   },
   "outputs": [],
   "source": [
    "merged_table_1day['No_punc'] = merged_table_1day['No_punc'].apply(stopwords)"
   ]
  },
  {
   "cell_type": "code",
   "execution_count": 18,
   "metadata": {
    "collapsed": true
   },
   "outputs": [],
   "source": [
    "clean_words = merged_table_1day['No_punc'].tolist()"
   ]
  },
  {
   "cell_type": "code",
   "execution_count": 19,
   "metadata": {
    "collapsed": false
   },
   "outputs": [],
   "source": [
    "from sklearn.feature_extraction.text import CountVectorizer"
   ]
  },
  {
   "cell_type": "code",
   "execution_count": 20,
   "metadata": {
    "collapsed": true
   },
   "outputs": [],
   "source": [
    "vectorizer = CountVectorizer(analyzer = \"word\",   \\\n",
    "                             tokenizer = None,    \\\n",
    "                             preprocessor = None, \\\n",
    "                             stop_words = None,   \\\n",
    "                             max_features = 5000)"
   ]
  },
  {
   "cell_type": "code",
   "execution_count": 21,
   "metadata": {
    "collapsed": false
   },
   "outputs": [],
   "source": [
    "train_data_features = vectorizer.fit_transform(clean_words)"
   ]
  },
  {
   "cell_type": "code",
   "execution_count": 22,
   "metadata": {
    "collapsed": true
   },
   "outputs": [],
   "source": [
    "train_data_features = train_data_features.toarray()"
   ]
  },
  {
   "cell_type": "code",
   "execution_count": 23,
   "metadata": {
    "collapsed": false
   },
   "outputs": [
    {
     "name": "stdout",
     "output_type": "stream",
     "text": [
      "(28679, 5000)\n"
     ]
    }
   ],
   "source": [
    "print train_data_features.shape"
   ]
  },
  {
   "cell_type": "code",
   "execution_count": 24,
   "metadata": {
    "collapsed": false
   },
   "outputs": [
    {
     "name": "stdout",
     "output_type": "stream",
     "text": [
      "[u'aalesund', u'aarskog', u'...', u'yteknologiske', u'ytreeide', u'ytterligere', u'yvind', u'zalaris', u'zealand', u'zero']\n"
     ]
    }
   ],
   "source": [
    "# Take a look at the words in the vocabulary\n",
    "vocab = vectorizer.get_feature_names()\n",
    "print vocab"
   ]
  },
  {
   "cell_type": "code",
   "execution_count": 26,
   "metadata": {
    "collapsed": true
   },
   "outputs": [],
   "source": [
    "def binary_return(x):\n",
    "    if x > 0:\n",
    "        return 1\n",
    "    else:\n",
    "        return 0"
   ]
  },
  {
   "cell_type": "code",
   "execution_count": 27,
   "metadata": {
    "collapsed": true
   },
   "outputs": [],
   "source": [
    "merged_table_1day[\"Simple return\"] = merged_table_1day[\"Daily return\"].apply(binary_return)"
   ]
  },
  {
   "cell_type": "code",
   "execution_count": 84,
   "metadata": {
    "collapsed": false
   },
   "outputs": [],
   "source": [
    "import numpy as np\n",
    "from sklearn.cross_validation import train_test_split\n",
    "x_train, x_test, y_train, y_test = train_test_split(train_data_features, merged_table_1day[\"Simple return\"], test_size=0.33, random_state=78)"
   ]
  },
  {
   "cell_type": "code",
   "execution_count": 106,
   "metadata": {
    "collapsed": false
   },
   "outputs": [
    {
     "name": "stdout",
     "output_type": "stream",
     "text": [
      "Random Forest Trained\n"
     ]
    }
   ],
   "source": [
    "print \"Random Forest Trained\"\n",
    "from sklearn.ensemble import RandomForestClassifier\n",
    "\n",
    "# Initialize a Random Forest classifier with 100 trees\n",
    "forest = RandomForestClassifier(n_estimators = 10, min_samples_leaf = 175)\n",
    "\n",
    "# Fit the forest to the training set, using the bag of words as \n",
    "# features and the sentiment labels as the response variable\n",
    "#\n",
    "# This may take a few minutes to run\n",
    "forest = forest.fit( x_train, y_train)"
   ]
  },
  {
   "cell_type": "code",
   "execution_count": 107,
   "metadata": {
    "collapsed": false
   },
   "outputs": [],
   "source": [
    "result = forest.predict(x_test)"
   ]
  },
  {
   "cell_type": "code",
   "execution_count": 108,
   "metadata": {
    "collapsed": true
   },
   "outputs": [],
   "source": [
    "from sklearn import metrics"
   ]
  },
  {
   "cell_type": "code",
   "execution_count": 109,
   "metadata": {
    "collapsed": false
   },
   "outputs": [],
   "source": [
    "fpr, tpr, thresholds = metrics.roc_curve(y_test, result)"
   ]
  },
  {
   "cell_type": "code",
   "execution_count": 45,
   "metadata": {
    "collapsed": true
   },
   "outputs": [],
   "source": [
    "#For visulisations\n",
    "import matplotlib.pyplot as plt\n",
    "import seaborn as sns\n",
    "sns.set_style('whitegrid')\n",
    "%matplotlib inline"
   ]
  },
  {
   "cell_type": "code",
   "execution_count": 83,
   "metadata": {
    "collapsed": true
   },
   "outputs": [],
   "source": [
    "fpr_save = fpr\n",
    "tpr_save = tpr"
   ]
  },
  {
   "cell_type": "code",
   "execution_count": 110,
   "metadata": {
    "collapsed": false
   },
   "outputs": [
    {
     "data": {
      "text/plain": [
       "<matplotlib.text.Text at 0x11f348d50>"
      ]
     },
     "execution_count": 110,
     "metadata": {},
     "output_type": "execute_result"
    },
    {
     "data": {
      "image/png": "[encoded data removed]",
      "text/plain": [
       "<matplotlib.figure.Figure at 0x11f352e90>"
      ]
     },
     "metadata": {},
     "output_type": "display_data"
    }
   ],
   "source": [
    "plt.plot(fpr,tpr)\n",
    "plt.plot(fpr_save,tpr_save)\n",
    "plt.plot([0, 1], [0, 1], '--', color=(0.6, 0.6, 0.6), label='Luck')\n",
    "plt.xlabel('False Positive Rate')\n",
    "plt.ylabel('True Positive Rate')"
   ]
  },
  {
   "cell_type": "code",
   "execution_count": 51,
   "metadata": {
    "collapsed": true
   },
   "outputs": [],
   "source": [
    "from sklearn import cross_validation"
   ]
  },
  {
   "cell_type": "code",
   "execution_count": 53,
   "metadata": {
    "collapsed": true
   },
   "outputs": [],
   "source": [
    "k_fold = cross_validation.KFold(len(train_data_features), 3)"
   ]
  },
  {
   "cell_type": "code",
   "execution_count": 82,
   "metadata": {
    "collapsed": false
   },
   "outputs": [
    {
     "name": "stdout",
     "output_type": "stream",
     "text": [
      "0\n",
      "1\n",
      "2\n",
      "0.535827229788\n"
     ]
    }
   ],
   "source": [
    "score = 0\n",
    "forest = RandomForestClassifier(n_estimators = 75, min_samples_leaf = 175)\n",
    "for k, (train, test) in enumerate(k_fold):\n",
    "    print k\n",
    "    X_train, X_test = train_data_features[train], train_data_features[test]\n",
    "    y_train, y_test = merged_table_1day[\"Simple return\"][train], merged_table_1day[\"Simple return\"][test]\n",
    "    \n",
    "    forest = forest.fit( X_train, y_train)\n",
    "    \n",
    "    score = score + forest.score(X_test, y_test)\n",
    "    \n",
    "print score/3"
   ]
  },
  {
   "cell_type": "markdown",
   "metadata": {},
   "source": [
    "10 trees = 0.513756041719\n",
    "50 trees = 0.514767166491\n",
    "100 trees = 0.510791833381 \n",
    "10 trees + 10 min_samples_split  = 0.512047005144 \n",
    "10 trees + 50 min_samples_split  = 0.512919010074\n",
    "10 trees + 75 min_samples_split  = 0.505700984548 \n",
    "10 trees + 10 min_samples_leaf  = 0.522717154257\n",
    "10 trees + 50 min_samples_leaf  = 0.524704514413\n",
    "10 trees + 100 min_samples_leaf  = 0.531643085598\n",
    "10 trees + 150 min_samples_leaf  = 0.533525912548\n",
    "10 trees + 200 min_samples_leaf  = 0.532061517525\n",
    "10 trees + 175 min_samples_leaf = 0.535164736279\n",
    "10 trees + 160 min_samples_leaf = 0.534362801936\n",
    "50 trees + 175 min_samples_leaf = 0.535373915766\n",
    "75 trees + 175 min_samples_leaf = 0.535827229788\n",
    "\n"
   ]
  },
  {
   "cell_type": "code",
   "execution_count": 65,
   "metadata": {
    "collapsed": false
   },
   "outputs": [],
   "source": [
    "from collections import Counter\n",
    "cnt = Counter()\n",
    "for number in merged_table_1day[\"Simple return\"]:\n",
    "    cnt[number] += 1"
   ]
  },
  {
   "cell_type": "code",
   "execution_count": 66,
   "metadata": {
    "collapsed": false
   },
   "outputs": [
    {
     "data": {
      "text/plain": [
       "Counter({0: 15351, 1: 13328})"
      ]
     },
     "execution_count": 66,
     "metadata": {},
     "output_type": "execute_result"
    }
   ],
   "source": [
    "cnt"
   ]
  },
  {
   "cell_type": "code",
   "execution_count": 96,
   "metadata": {
    "collapsed": false
   },
   "outputs": [
    {
     "data": {
      "text/plain": [
       "array([ 0.        ,  0.01094527,  1.        ])"
      ]
     },
     "execution_count": 96,
     "metadata": {},
     "output_type": "execute_result"
    }
   ],
   "source": [
    "fpr"
   ]
  },
  {
   "cell_type": "code",
   "execution_count": null,
   "metadata": {
    "collapsed": true
   },
   "outputs": [],
   "source": []
  }
 ],
 "metadata": {
  "kernelspec": {
   "display_name": "Python 2",
   "language": "python",
   "name": "python2"
  },
  "language_info": {
   "codemirror_mode": {
    "name": "ipython",
    "version": 2
   },
   "file_extension": ".py",
   "mimetype": "text/x-python",
   "name": "python",
   "nbconvert_exporter": "python",
   "pygments_lexer": "ipython2",
   "version": "2.7.9"
  }
 },
 "nbformat": 4,
 "nbformat_minor": 0
}
