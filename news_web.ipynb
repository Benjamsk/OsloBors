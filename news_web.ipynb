{
 "cells": [
  {
   "cell_type": "code",
   "execution_count": 3,
   "metadata": {
    "collapsed": true
   },
   "outputs": [],
   "source": [
    "import pandas as pd\n",
    "import numpy as np\n",
    "import json\n",
    "import time"
   ]
  },
  {
   "cell_type": "code",
   "execution_count": 4,
   "metadata": {
    "collapsed": true
   },
   "outputs": [],
   "source": [
    "import pymongo\n",
    "from pymongo import MongoClient"
   ]
  },
  {
   "cell_type": "code",
   "execution_count": 5,
   "metadata": {
    "collapsed": true
   },
   "outputs": [],
   "source": [
    "#Setup MongoDB\n",
    "#Switch on my file server then run in bash: mongod --dbpath /Volumes/Data/David_Files/data/db/\n",
    "client = MongoClient()\n",
    "db = client.oslo_bors\n",
    "collection = db.newsweb\n",
    "collectionStocks = db.stocks"
   ]
  },
  {
   "cell_type": "code",
   "execution_count": 8,
   "metadata": {
    "collapsed": false
   },
   "outputs": [
    {
     "name": "stdout",
     "output_type": "stream",
     "text": [
      "Article  300000  Date:  02.03.2012 16:21\n",
      "Elapsed Seconds:  0.444709062576\n",
      "Article  299537  Date:  27.02.2012 17:36\n",
      "Elapsed Seconds:  187.338490963\n",
      "Article  299536  Date:  27.02.2012 17:35\n",
      "Elapsed Seconds:  188.11916995\n",
      "Article  299535  Date:  27.02.2012 17:33\n",
      "Elapsed Seconds:  188.554002047\n",
      "Article  299534  Date:  27.02.2012 16:56\n",
      "Elapsed Seconds:  189.349781036\n"
     ]
    },
    {
     "ename": "HTTPError",
     "evalue": "HTTP Error 500: Server Error",
     "output_type": "error",
     "traceback": [
     ]
    }
   ],
   "source": [
    "#collection.remove()\n",
    "start_time = time.time()\n",
    "#Scrapped range 387627:299534\n",
    "for i in range(299533,290000,-1):\n",
    "    url = \"http://www.newsweb.no/newsweb/search.do?messageId=%d\" %i\n",
    "    data = pd.read_html(url)\n",
    "    df = data[5]\n",
    "    if pd.isnull(df.loc[1][1]):\n",
    "        pass\n",
    "    else:\n",
    "        \n",
    "        print \"Article \", i, \" Date: \", df.loc[1][1]\n",
    "        print \"Elapsed Seconds: \", time.time() - start_time\n",
    "        df = df[[0,1]]\n",
    "        df = df.set_index(df[0])\n",
    "        df = df.drop(0,1)\n",
    "        df.index.name = None\n",
    "        df = df.transpose()\n",
    "        df.columns = df.columns.str.replace('.','-')\n",
    "        df.columns = df.columns.str.replace('$','-')\n",
    "        \n",
    "        #Store the data in the mongoDB\n",
    "        records = json.loads(df.T.to_json(date_format='iso')).values() #Convert dataframe to json\n",
    "        collection.insert(records)"
   ]
  },
  {
   "cell_type": "code",
   "execution_count": 4,
   "metadata": {
    "collapsed": false
   },
   "outputs": [
    {
     "data": {
      "text/plain": [
       "311"
      ]
     },
     "execution_count": 4,
     "metadata": {},
     "output_type": "execute_result"
    }
   ],
   "source": [
    "collection.count({ 'UtstederID':\"EVRY\" })"
   ]
  },
  {
   "cell_type": "code",
   "execution_count": 11,
   "metadata": {
    "collapsed": false
   },
   "outputs": [
    {
     "data": {
      "text/plain": [
       "{u'Dato/tid': u'22.10.2015 16:26',\n",
       " u'Informasjonspliktig': u'Nei',\n",
       " u'Instrument': None,\n",
       " u'Kategori': u'SLUTTKURSER DERIVATER',\n",
       " u'Marked': u'OB',\n",
       " u'MeldingsID:\\xa0387624  Generer PDF': None,\n",
       " u'Tekst': u'OBX5K\\t552.31 OBX5L\\t552.78 OBX6A\\t553.45 OBX6C\\t554.46 OBX6F\\t556.12 OBX6I\\t557.84',\n",
       " u'Tittel': u'OSLO B\\xd8RS - CLOSING PRICES OBX FUTURES',\n",
       " u'Utsteder': u'Oslo B\\xf8rs',\n",
       " u'UtstederID': u'-',\n",
       " u'Vedlegg': None,\n",
       " u'_id': ObjectId('56291b65c3b5a00221303037')}"
      ]
     },
     "execution_count": 11,
     "metadata": {},
     "output_type": "execute_result"
    }
   ],
   "source": [
    "collection.find_one()"
   ]
  },
  {
   "cell_type": "code",
   "execution_count": 6,
   "metadata": {
    "collapsed": false
   },
   "outputs": [],
   "source": [
    "scraped_tickers = collectionStocks.distinct(\"Ticker\")"
   ]
  },
  {
   "cell_type": "markdown",
   "metadata": {},
   "source": [
    "We retrive the data for each stock we have scraped data for and save it to a panda dataframe called temp_frame. This dataframe is then added to table_list, ceasting a list of all our stock panda dataframes."
   ]
  },
  {
   "cell_type": "code",
   "execution_count": 7,
   "metadata": {
    "collapsed": false
   },
   "outputs": [],
   "source": [
    "table_list = []\n",
    "\n",
    "for i in scraped_tickers:\n",
    "    cursor = collectionStocks.find({\"Ticker\": i})\n",
    "    temp_frame = pd.DataFrame(list(cursor))\n",
    "    \n",
    "    #Do some dataframe setup, turn Date back into datetime and make it the index\n",
    "    temp_frame['Date'] = pd.to_datetime(temp_frame['Date'])\n",
    "    #temp_frame = temp_frame.set_index(['Date'])\n",
    "    #temp_frame = temp_frame.sort_index()\n",
    "    \n",
    "    #Create an extran column called \"Daily Return\"\n",
    "    temp_frame['Daily return'] = temp_frame['Last'].pct_change()\n",
    "    \n",
    "    table_list.append(temp_frame)\n"
   ]
  },
  {
   "cell_type": "markdown",
   "metadata": {},
   "source": [
    "Next we take our list of  panda dataframes and concat them."
   ]
  },
  {
   "cell_type": "code",
   "execution_count": 8,
   "metadata": {
    "collapsed": false
   },
   "outputs": [],
   "source": [
    "stock_table = pd.concat(table_list)\n",
    "stock_table = stock_table[['Ticker','Daily return','Date']]\n",
    "stock_table = stock_table.sort(['Date'])"
   ]
  },
  {
   "cell_type": "code",
   "execution_count": 9,
   "metadata": {
    "collapsed": false
   },
   "outputs": [],
   "source": [
    "time_shift = [1,5,10,20,30]\n",
    "\n",
    "for time in time_shift:\n",
    "    shift_list = []\n",
    "    gouped_stock = stock_table.groupby(['Ticker'])\n",
    "    \n",
    "    for name, group in gouped_stock:\n",
    "        temp_frame = group.copy()\n",
    "        temp_frame = temp_frame.sort(['Date'])\n",
    "        temp_frame.Date = temp_frame.Date.shift(time)\n",
    "        shift_list.append(temp_frame)\n",
    "    \n",
    "    globals()['stock_table_%d_days' % time] = pd.concat(shift_list)"
   ]
  },
  {
   "cell_type": "code",
   "execution_count": 10,
   "metadata": {
    "collapsed": true
   },
   "outputs": [],
   "source": [
    "cursor = collection.find({'UtstederID':{\n",
    "            \"$in\": scraped_tickers #Get values where UtstederID is in '$in' the scraped ticker list\n",
    "        }\n",
    "        }, { 'UtstederID': 1,'Dato/tid':1, 'Tekst':1})\n",
    "#len(list(cursor))\n",
    "text_table = pd.DataFrame(list(cursor))"
   ]
  },
  {
   "cell_type": "code",
   "execution_count": 11,
   "metadata": {
    "collapsed": true
   },
   "outputs": [],
   "source": [
    "#Turn the data/tid into a datetime and then normalize, eg. remove the time leaving just the date\n",
    "text_table['Dato/tid'] = pd.to_datetime(text_table['Dato/tid'])\n",
    "text_table['Dato/tid'] = pd.DatetimeIndex(text_table['Dato/tid']).normalize()\n",
    "text_table = text_table.rename(columns={'Dato/tid':'Date', 'UtstederID':'Ticker','Tekst':'Text'})"
   ]
  },
  {
   "cell_type": "code",
   "execution_count": 13,
   "metadata": {
    "collapsed": false
   },
   "outputs": [
    {
     "data": {
      "text/html": [
       "<div style=\"max-height:1000px;max-width:1500px;overflow:auto;\">\n",
       "<table border=\"1\" class=\"dataframe\">\n",
       "  <thead>\n",
       "    <tr style=\"text-align: right;\">\n",
       "      <th></th>\n",
       "      <th>Ticker</th>\n",
       "      <th>Daily return</th>\n",
       "      <th>Date</th>\n",
       "    </tr>\n",
       "  </thead>\n",
       "  <tbody>\n",
       "    <tr>\n",
       "      <th>737</th>\n",
       "      <td>AKA</td>\n",
       "      <td>-0.262803</td>\n",
       "      <td>NaT</td>\n",
       "    </tr>\n",
       "    <tr>\n",
       "      <th>1066</th>\n",
       "      <td>AKA</td>\n",
       "      <td>-0.208939</td>\n",
       "      <td>2010-10-07</td>\n",
       "    </tr>\n",
       "    <tr>\n",
       "      <th>777</th>\n",
       "      <td>AKA</td>\n",
       "      <td>-0.194387</td>\n",
       "      <td>2010-10-08</td>\n",
       "    </tr>\n",
       "    <tr>\n",
       "      <th>779</th>\n",
       "      <td>AKA</td>\n",
       "      <td>-0.012821</td>\n",
       "      <td>2010-10-11</td>\n",
       "    </tr>\n",
       "    <tr>\n",
       "      <th>1071</th>\n",
       "      <td>AKA</td>\n",
       "      <td>-0.011990</td>\n",
       "      <td>2010-10-12</td>\n",
       "    </tr>\n",
       "  </tbody>\n",
       "</table>\n",
       "</div>"
      ],
      "text/plain": [
       "     Ticker  Daily return       Date\n",
       "737     AKA     -0.262803        NaT\n",
       "1066    AKA     -0.208939 2010-10-07\n",
       "777     AKA     -0.194387 2010-10-08\n",
       "779     AKA     -0.012821 2010-10-11\n",
       "1071    AKA     -0.011990 2010-10-12"
      ]
     },
     "execution_count": 13,
     "metadata": {},
     "output_type": "execute_result"
    }
   ],
   "source": [
    "stock_table_1_days[stock_table_1_days['Ticker']=='AKA'].head()"
   ]
  },
  {
   "cell_type": "code",
   "execution_count": 14,
   "metadata": {
    "collapsed": false
   },
   "outputs": [
    {
     "data": {
      "text/html": [
       "<div style=\"max-height:1000px;max-width:1500px;overflow:auto;\">\n",
       "<table border=\"1\" class=\"dataframe\">\n",
       "  <thead>\n",
       "    <tr style=\"text-align: right;\">\n",
       "      <th></th>\n",
       "      <th>Ticker</th>\n",
       "      <th>Daily return</th>\n",
       "      <th>Date</th>\n",
       "    </tr>\n",
       "  </thead>\n",
       "  <tbody>\n",
       "    <tr>\n",
       "      <th>737</th>\n",
       "      <td>AKA</td>\n",
       "      <td>-0.262803</td>\n",
       "      <td>2010-10-07</td>\n",
       "    </tr>\n",
       "    <tr>\n",
       "      <th>1066</th>\n",
       "      <td>AKA</td>\n",
       "      <td>-0.208939</td>\n",
       "      <td>2010-10-08</td>\n",
       "    </tr>\n",
       "    <tr>\n",
       "      <th>777</th>\n",
       "      <td>AKA</td>\n",
       "      <td>-0.194387</td>\n",
       "      <td>2010-10-11</td>\n",
       "    </tr>\n",
       "    <tr>\n",
       "      <th>779</th>\n",
       "      <td>AKA</td>\n",
       "      <td>-0.012821</td>\n",
       "      <td>2010-10-12</td>\n",
       "    </tr>\n",
       "    <tr>\n",
       "      <th>1071</th>\n",
       "      <td>AKA</td>\n",
       "      <td>-0.011990</td>\n",
       "      <td>2010-10-13</td>\n",
       "    </tr>\n",
       "  </tbody>\n",
       "</table>\n",
       "</div>"
      ],
      "text/plain": [
       "     Ticker  Daily return       Date\n",
       "737     AKA     -0.262803 2010-10-07\n",
       "1066    AKA     -0.208939 2010-10-08\n",
       "777     AKA     -0.194387 2010-10-11\n",
       "779     AKA     -0.012821 2010-10-12\n",
       "1071    AKA     -0.011990 2010-10-13"
      ]
     },
     "execution_count": 14,
     "metadata": {},
     "output_type": "execute_result"
    }
   ],
   "source": [
    "stock_table[stock_table['Ticker']=='AKA'].head()"
   ]
  },
  {
   "cell_type": "code",
   "execution_count": 65,
   "metadata": {
    "collapsed": false
   },
   "outputs": [],
   "source": [
    "#text_table = text_table.set_index(['Dato/tid'])"
   ]
  },
  {
   "cell_type": "code",
   "execution_count": 12,
   "metadata": {
    "collapsed": false
   },
   "outputs": [],
   "source": [
    "#0 day shift\n",
    "merged_table = pd.merge(stock_table, text_table, how='left', on=['Date','Ticker'])\n",
    "merged_table = merged_table.dropna(subset=['Daily return'])\n",
    "merged_table = merged_table.dropna()\n",
    "merged_table = merged_table.reset_index()"
   ]
  },
  {
   "cell_type": "code",
   "execution_count": 13,
   "metadata": {
    "collapsed": false
   },
   "outputs": [],
   "source": [
    "#1 day shift\n",
    "merged_table_1day = pd.merge(stock_table_1_days, text_table, how='left', on=['Date','Ticker'])\n",
    "merged_table_1day = merged_table_1day.dropna(subset=['Daily return'])\n",
    "merged_table_1day = merged_table_1day.dropna()\n",
    "merged_table_1day = merged_table_1day.reset_index()"
   ]
  },
  {
   "cell_type": "code",
   "execution_count": 181,
   "metadata": {
    "collapsed": false
   },
   "outputs": [
    {
     "data": {
      "text/html": [
       "<div style=\"max-height:1000px;max-width:1500px;overflow:auto;\">\n",
       "<table border=\"1\" class=\"dataframe\">\n",
       "  <thead>\n",
       "    <tr style=\"text-align: right;\">\n",
       "      <th></th>\n",
       "      <th>index</th>\n",
       "      <th>Ticker</th>\n",
       "      <th>Daily return</th>\n",
       "      <th>Date</th>\n",
       "      <th>Text</th>\n",
       "      <th>_id</th>\n",
       "    </tr>\n",
       "  </thead>\n",
       "  <tbody>\n",
       "    <tr>\n",
       "      <th>28918</th>\n",
       "      <td>191673</td>\n",
       "      <td>AUSS</td>\n",
       "      <td>0.468579</td>\n",
       "      <td>2015-10-07</td>\n",
       "      <td>New bond issue to be listed on Oslo Børs on th...</td>\n",
       "      <td>56292503c3b5a002213045d5</td>\n",
       "    </tr>\n",
       "    <tr>\n",
       "      <th>28919</th>\n",
       "      <td>191674</td>\n",
       "      <td>AUSS</td>\n",
       "      <td>0.468579</td>\n",
       "      <td>2015-10-07</td>\n",
       "      <td>Oslo Børs - obligasjonslån til notering på Osl...</td>\n",
       "      <td>56292503c3b5a002213045d6</td>\n",
       "    </tr>\n",
       "    <tr>\n",
       "      <th>28920</th>\n",
       "      <td>191688</td>\n",
       "      <td>OLT</td>\n",
       "      <td>0.209748</td>\n",
       "      <td>2015-10-07</td>\n",
       "      <td>Oslo Børs has received an application for ISIN...</td>\n",
       "      <td>562924f5c3b5a002213045b2</td>\n",
       "    </tr>\n",
       "    <tr>\n",
       "      <th>28921</th>\n",
       "      <td>191689</td>\n",
       "      <td>OLT</td>\n",
       "      <td>0.209748</td>\n",
       "      <td>2015-10-07</td>\n",
       "      <td>Oslo Børs har mottatt søknad om børsnotering a...</td>\n",
       "      <td>562924f5c3b5a002213045b3</td>\n",
       "    </tr>\n",
       "    <tr>\n",
       "      <th>28922</th>\n",
       "      <td>191705</td>\n",
       "      <td>OCY</td>\n",
       "      <td>0.707474</td>\n",
       "      <td>2015-10-07</td>\n",
       "      <td>Please find attached the Q2 2015 presentation ...</td>\n",
       "      <td>56292505c3b5a002213045db</td>\n",
       "    </tr>\n",
       "  </tbody>\n",
       "</table>\n",
       "</div>"
      ],
      "text/plain": [
       "        index Ticker  Daily return       Date  \\\n",
       "28918  191673   AUSS      0.468579 2015-10-07   \n",
       "28919  191674   AUSS      0.468579 2015-10-07   \n",
       "28920  191688    OLT      0.209748 2015-10-07   \n",
       "28921  191689    OLT      0.209748 2015-10-07   \n",
       "28922  191705    OCY      0.707474 2015-10-07   \n",
       "\n",
       "                                                    Text  \\\n",
       "28918  New bond issue to be listed on Oslo Børs on th...   \n",
       "28919  Oslo Børs - obligasjonslån til notering på Osl...   \n",
       "28920  Oslo Børs has received an application for ISIN...   \n",
       "28921  Oslo Børs har mottatt søknad om børsnotering a...   \n",
       "28922  Please find attached the Q2 2015 presentation ...   \n",
       "\n",
       "                            _id  \n",
       "28918  56292503c3b5a002213045d5  \n",
       "28919  56292503c3b5a002213045d6  \n",
       "28920  562924f5c3b5a002213045b2  \n",
       "28921  562924f5c3b5a002213045b3  \n",
       "28922  56292505c3b5a002213045db  "
      ]
     },
     "execution_count": 181,
     "metadata": {},
     "output_type": "execute_result"
    }
   ],
   "source": [
    "merged_table.tail()"
   ]
  },
  {
   "cell_type": "code",
   "execution_count": 182,
   "metadata": {
    "collapsed": false
   },
   "outputs": [
    {
     "data": {
      "text/html": [
       "<div style=\"max-height:1000px;max-width:1500px;overflow:auto;\">\n",
       "<table border=\"1\" class=\"dataframe\">\n",
       "  <thead>\n",
       "    <tr style=\"text-align: right;\">\n",
       "      <th></th>\n",
       "      <th>index</th>\n",
       "      <th>Ticker</th>\n",
       "      <th>Daily return</th>\n",
       "      <th>Date</th>\n",
       "      <th>Text</th>\n",
       "      <th>_id</th>\n",
       "    </tr>\n",
       "  </thead>\n",
       "  <tbody>\n",
       "    <tr>\n",
       "      <th>28674</th>\n",
       "      <td>191659</td>\n",
       "      <td>ZAL</td>\n",
       "      <td>0.006061</td>\n",
       "      <td>2015-08-18</td>\n",
       "      <td>Zalaris will publish its second quarter result...</td>\n",
       "      <td>56292236c3b5a00221303f5c</td>\n",
       "    </tr>\n",
       "    <tr>\n",
       "      <th>28675</th>\n",
       "      <td>191661</td>\n",
       "      <td>ZAL</td>\n",
       "      <td>0.003030</td>\n",
       "      <td>2015-08-20</td>\n",
       "      <td>On August 20th 2015, Peter T. Gogstad has sold...</td>\n",
       "      <td>562921abc3b5a00221303e0e</td>\n",
       "    </tr>\n",
       "    <tr>\n",
       "      <th>28676</th>\n",
       "      <td>191662</td>\n",
       "      <td>ZAL</td>\n",
       "      <td>0.003030</td>\n",
       "      <td>2015-08-20</td>\n",
       "      <td>Record half-year results for Zalaris Zalaris d...</td>\n",
       "      <td>562921e2c3b5a00221303e94</td>\n",
       "    </tr>\n",
       "    <tr>\n",
       "      <th>28677</th>\n",
       "      <td>191672</td>\n",
       "      <td>ZAL</td>\n",
       "      <td>0.014493</td>\n",
       "      <td>2015-09-03</td>\n",
       "      <td>On the 6th and 9th of March 2015, Peter T. Gog...</td>\n",
       "      <td>5629386ac3b5a0022130671d</td>\n",
       "    </tr>\n",
       "    <tr>\n",
       "      <th>28678</th>\n",
       "      <td>191679</td>\n",
       "      <td>ZAL</td>\n",
       "      <td>0.008287</td>\n",
       "      <td>2015-09-14</td>\n",
       "      <td>First agreement with state-owned company for Z...</td>\n",
       "      <td>56291f7ec3b5a002213038b5</td>\n",
       "    </tr>\n",
       "  </tbody>\n",
       "</table>\n",
       "</div>"
      ],
      "text/plain": [
       "        index Ticker  Daily return       Date  \\\n",
       "28674  191659    ZAL      0.006061 2015-08-18   \n",
       "28675  191661    ZAL      0.003030 2015-08-20   \n",
       "28676  191662    ZAL      0.003030 2015-08-20   \n",
       "28677  191672    ZAL      0.014493 2015-09-03   \n",
       "28678  191679    ZAL      0.008287 2015-09-14   \n",
       "\n",
       "                                                    Text  \\\n",
       "28674  Zalaris will publish its second quarter result...   \n",
       "28675  On August 20th 2015, Peter T. Gogstad has sold...   \n",
       "28676  Record half-year results for Zalaris Zalaris d...   \n",
       "28677  On the 6th and 9th of March 2015, Peter T. Gog...   \n",
       "28678  First agreement with state-owned company for Z...   \n",
       "\n",
       "                            _id  \n",
       "28674  56292236c3b5a00221303f5c  \n",
       "28675  562921abc3b5a00221303e0e  \n",
       "28676  562921e2c3b5a00221303e94  \n",
       "28677  5629386ac3b5a0022130671d  \n",
       "28678  56291f7ec3b5a002213038b5  "
      ]
     },
     "execution_count": 182,
     "metadata": {},
     "output_type": "execute_result"
    }
   ],
   "source": [
    "merged_table_1day.tail()"
   ]
  },
  {
   "cell_type": "code",
   "execution_count": 14,
   "metadata": {
    "collapsed": false
   },
   "outputs": [
    {
     "name": "stdout",
     "output_type": "stream",
     "text": [
      "[u'i', u'me', u'my', u'myself', u'we', u'our', u'ours', u'ourselves', u'you', u'your', u'yours', u'yourself', u'yourselves', u'he', u'him', u'his', u'himself', u'she', u'her', u'hers', u'herself', u'it', u'its', u'itself', u'they', u'them', u'their', u'theirs', u'themselves', u'what', u'which', u'who', u'whom', u'this', u'that', u'these', u'those', u'am', u'is', u'are', u'was', u'were', u'be', u'been', u'being', u'have', u'has', u'had', u'having', u'do', u'does', u'did', u'doing', u'a', u'an', u'the', u'and', u'but', u'if', u'or', u'because', u'as', u'until', u'while', u'of', u'at', u'by', u'for', u'with', u'about', u'against', u'between', u'into', u'through', u'during', u'before', u'after', u'above', u'below', u'to', u'from', u'up', u'down', u'in', u'out', u'on', u'off', u'over', u'under', u'again', u'further', u'then', u'once', u'here', u'there', u'when', u'where', u'why', u'how', u'all', u'any', u'both', u'each', u'few', u'more', u'most', u'other', u'some', u'such', u'no', u'nor', u'not', u'only', u'own', u'same', u'so', u'than', u'too', u'very', u's', u't', u'can', u'will', u'just', u'don', u'should', u'now']\n"
     ]
    }
   ],
   "source": [
    "import re\n",
    "import nltk\n",
    "#nltk.download()  # Download text data sets, including stop words\n",
    "from nltk.corpus import stopwords # Import the stop word list\n",
    "print stopwords.words(\"english\") "
   ]
  },
  {
   "cell_type": "code",
   "execution_count": 15,
   "metadata": {
    "collapsed": false
   },
   "outputs": [],
   "source": [
    "merged_table_1day['No_punc'] = merged_table_1day['Text'].str.lower() #All lower case\n",
    "merged_table_1day['No_punc'] = merged_table_1day['No_punc'].str.replace('[^a-zA-Z]',' ') #Remove punc\n",
    "merged_table_1day['No_punc'] = merged_table_1day['No_punc'].str.split() #Tokenize"
   ]
  },
  {
   "cell_type": "code",
   "execution_count": 16,
   "metadata": {
    "collapsed": true
   },
   "outputs": [],
   "source": [
    "def stopwords(x):\n",
    "    from nltk.corpus import stopwords # Import the stop word list\n",
    "    stops = set(stopwords.words(\"english\"))\n",
    "    word_list = []\n",
    "    for word in x:\n",
    "        if not word in stops:\n",
    "            word_list.append(word)\n",
    "    return( \" \".join( word_list)) "
   ]
  },
  {
   "cell_type": "code",
   "execution_count": 17,
   "metadata": {
    "collapsed": false
   },
   "outputs": [],
   "source": [
    "merged_table_1day['No_punc'] = merged_table_1day['No_punc'].apply(stopwords)"
   ]
  },
  {
   "cell_type": "code",
   "execution_count": 18,
   "metadata": {
    "collapsed": true
   },
   "outputs": [],
   "source": [
    "clean_words = merged_table_1day['No_punc'].tolist()"
   ]
  },
  {
   "cell_type": "code",
   "execution_count": 19,
   "metadata": {
    "collapsed": false
   },
   "outputs": [],
   "source": [
    "from sklearn.feature_extraction.text import CountVectorizer"
   ]
  },
  {
   "cell_type": "code",
   "execution_count": 20,
   "metadata": {
    "collapsed": true
   },
   "outputs": [],
   "source": [
    "vectorizer = CountVectorizer(analyzer = \"word\",   \\\n",
    "                             tokenizer = None,    \\\n",
    "                             preprocessor = None, \\\n",
    "                             stop_words = None,   \\\n",
    "                             max_features = 5000)"
   ]
  },
  {
   "cell_type": "code",
   "execution_count": 21,
   "metadata": {
    "collapsed": false
   },
   "outputs": [],
   "source": [
    "train_data_features = vectorizer.fit_transform(clean_words)"
   ]
  },
  {
   "cell_type": "code",
   "execution_count": 22,
   "metadata": {
    "collapsed": true
   },
   "outputs": [],
   "source": [
    "train_data_features = train_data_features.toarray()"
   ]
  },
  {
   "cell_type": "code",
   "execution_count": 23,
   "metadata": {
    "collapsed": false
   },
   "outputs": [
    {
     "name": "stdout",
     "output_type": "stream",
     "text": [
      "(28679, 5000)\n"
     ]
    }
   ],
   "source": [
    "print train_data_features.shape"
   ]
  },
  {
   "cell_type": "code",
   "execution_count": 24,
   "metadata": {
    "collapsed": false
   },
   "outputs": [
    {
     "name": "stdout",
     "output_type": "stream",
     "text": [
      "[u'aalesund', u'aarskog', u'aarsnes', u'aase', u'aasen', u'ab', u'aberdeen', u'abg', u'abgsc', u'ability', u'able', u'absent', u'acc', u'accelerated', u'accello', u'accept', u'acceptance', u'acceptances', u'accepted', u'accepts', u'access', u'accessed', u'accommodation', u'accordance', u'according', u'accordingly', u'account', u'accounted', u'accounting', u'accounts', u'accrual', u'accrued', u'accuracy', u'accurate', u'achieve', u'achieved', u'achievements', u'achieving', u'acquire', u'acquired', u'acquisition', u'acquisitions', u'acreage', u'across', u'act', u'acta', u'acted', u'acting', u'action', u'actions', u'active', u'actively', u'activities', u'activity', u'actual', u'ad', u'add', u'added', u'adding', u'addition', u'additional', u'additionally', u'address', u'addressed', u'adequacy', u'adjusted', u'adjustment', u'adjustments', u'adm', u'administration', u'administrative', u'administrerende', u'admission', u'adopted', u'adr', u'adresse', u'advance', u'advanced', u'advantage', u'advertisers', u'advertising', u'advice', u'advised', u'adviser', u'advisers', u'advisor', u'advisors', u'advisory', u'aerospace', u'af', u'affairs', u'affect', u'affected', u'affecting', u'affiliated', u'affiliates', u'afforded', u'afg', u'afh', u'aforementioned', u'africa', u'afrika', u'ag', u'agasti', u'agenda', u'agent', u'agents', u'aggregate', u'aggregated', u'aggregates', u'agm', u'ago', u'agreed', u'agreement', u'agreements', u'agriculture', u'ahead', u'ahts', u'aids', u'aim', u'aims', u'air', u'aje', u'akastor', u'aker', u'akerasa', u'akersolutions', u'akfp', u'aksjar', u'aksje', u'aksjeeiere', u'aksjekapital', u'aksjekapitalen', u'aksjekj', u'aksjen', u'aksjene', u'aksjeprogram', u'aksjer', u'aksjespareprogram', u'aksjespareprogrammet', u'aksjetilbakekj', u'aksjon', u'akt', u'aktiv', u'aktivitet', u'aktiviteten', u'aktiviteter', u'aktivitetsniv', u'akva', u'akvagroup', u'alberta', u'aleksander', u'alexander', u'alf', u'alfred', u'alia', u'alle', u'allerede', u'alliance', u'allocated', u'allocation', u'allotment', u'allotted', u'allow', u'allowed', u'allows', u'alltid', u'allumera', u'almost', u'alone', u'along', u'already', u'also', u'alt', u'alter', u'alternative', u'alternatives', u'although', u'alumina', u'aluminium', u'alunorte', u'always', u'alzheimer', u'alzheimers', u'ambition', u'ambitious', u'amended', u'amendment', u'amendments', u'america', u'american', u'amerika', u'amerikanske', u'among', u'amortisation', u'amortization', u'amount', u'amounted', u'amounting', u'amounts', u'amsc', u'analysis', u'analyst', u'analysts', u'analytikere', u'andel', u'anders', u'andersen', u'andersson', u'andre', u'andreas', u'andresen', u'ane', u'angola', u'anita', u'anledning', u'anlegg', u'anleggsoppdrag', u'anne', u'annen', u'annet', u'anniversary', u'annonsert', u'annonserte', u'announce', u'announced', u'announcement', u'announcements', u'announces', u'announcing', u'annual', u'annually', u'another', u'ansatt', u'ansatte', u'ansattes', u'ansvar', u'ansvarlig', u'antall', u'antallet', u'anti', u'antibodies', u'anticipate', u'anticipated', u'anticipates', u'anyone', u'apelthun', u'appeal', u'appendix', u'apple', u'applicable', u'application', u'applications', u'applied', u'apply', u'appointed', u'appointment', u'appraisal', u'approach', u'appropriate', u'approval', u'approvals', u'approve', u'approved', u'approx', u'approximately', u'april', u'aqua', u'aquaculture', u'aqualis', u'arab', u'arabo', u'arbeid', u'arbeider', u'arbeidet', u'archer', u'arcona', u'arctic', u'arcticzymes', u'area', u'areas', u'arendal', u'argentine', u'arild', u'arising', u'arne', u'arnesen', u'around', u'arrangement', u'art', u'article', u'articles', u'arve', u'asa', u'asas', u'asc', u'asetek', u'asfalt', u'asfaltvirksomhet', u'ashby', u'asia', u'ask', u'asked', u'asker', u'asle', u'asphalt', u'aspx', u'assemblies', u'assembly', u'assessment', u'asset', u'assets', u'assist', u'assists', u'associate', u'associated', u'associates', u'association', u'assume', u'assumes', u'assuming', u'assumptions', u'assurance', u'astrup', u'atea', u'atla', u'atlantic', u'atlantisk', u'atle', u'atms', u'atrium', u'att', u'attached', u'attachment', u'attachments', u'attend', u'attendance', u'attendees', u'attorney', u'attractive', u'attraktive', u'attributable', u'auction', u'audience', u'audiences', u'audio', u'audit', u'audited', u'auditor', u'august', u'auss', u'austevoll', u'australia', u'austreid', u'authentication', u'authorisation', u'authorised', u'authorities', u'authority', u'authorization', u'authorized', u'automasjon', u'automation', u'automotive', u'autumn', u'av', u'availability', u'available', u'avance', u'avancegas', u'avanserte', u'average', u'averaged', u'avgj', u'avholdes', u'avholdt', u'avkastning', u'avocet', u'avskrivninger', u'avsluttet', u'avtale', u'avtalen', u'avtaler', u'avtalt', u'award', u'awarded', u'awards', u'axess', u'baard', u'baastad', u'back', u'background', u'backlog', u'badhoevedorp', u'bakgrunn', u'bakkafrost', u'bakken', u'balance', u'baltic', u'baltikums', u'bandele', u'bank', u'banken', u'banking', u'banks', u'bareboat', u'barents', u'barrel', u'barrels', u'base', u'based', u'basert', u'basf', u'basic', u'basili', u'basin', u'basins', u'basis', u'bauxite', u'bay', u'bc', u'bearing', u'become', u'becoming', u'bedre', u'bedret', u'bedrifter', u'bedriftskultur', u'befraktningsprofil', u'began', u'begge', u'begin', u'beginning', u'begrenset', u'behalf', u'behandling', u'beholdning', u'behov', u'bekker', u'bekrefter', u'bel', u'beliefs', u'believe', u'believes', u'beliggenhet', u'belships', u'beltestad', u'ben', u'beneficial', u'benefit', u'benefits', u'benelux', u'bente', u'benytte', u'benyttes', u'benyttet', u'beregnet', u'berg', u'berge', u'bergen', u'berger', u'bermuda', u'bernstein', u'bes', u'beskrevet', u'beslutning', u'besluttet', u'best', u'beste', u'bestemmelser', u'beta', u'betaglucans', u'betaling', u'betingelser', u'betinget', u'better', u'betydelig', u'betydelige', u'beyond', u'bhp', u'bid', u'bidra', u'bidrar', u'bidro', u'billion', u'binde', u'bio', u'biogel', u'biological', u'biomass', u'biomasse', u'biometric', u'bionor', u'bionorpharma', u'biotec', u'birdstep', u'birgitte', u'bist', u'bj', u'bjerke', u'bjorn', u'bl', u'blaauw', u'blackstone', u'bladder', u'blant', u'ble', u'bli', u'blir', u'blitt', u'block', u'blocks', u'blom', u'blood', u'blue', u'bluetooth', u'boa', u'board', u'boe', u'boepd', u'bokf', u'bolig', u'boliger', u'boligutvikling', u'bond', u'bondholder', u'bondholders', u'bonds', u'bonheur', u'bonus', u'book', u'bookbuilding', u'booked', u'bookrunners', u'bopd', u'borgestad', u'borregaard', u'bought', u'bouvet', u'box', u'bp', u'br', u'brackets', u'brain', u'branch', u'brand', u'branded', u'brands', u'brandtz', u'brasil', u'bratlie', u'brazil', u'brazilian', u'breakfast', u'breaking', u'breakthrough', u'bredesen', u'bredt', u'brekke', u'brg', u'brian', u'bring', u'bringing', u'brings', u'britt', u'broad', u'broadband', u'broadcast', u'broadcasted', u'broker', u'brought', u'bruk', u'brutto', u'brygge', u'bryggetorget', u'bryn', u'bs', u'bscf', u'build', u'building', u'buildings', u'built', u'bulk', u'bunker', u'bunny', u'bury', u'business', u'businesses', u'buy', u'buyback', u'buyer', u'buyers', u'bw', u'bwlpg', u'bwoffshore', u'byer', u'bygd', u'bygg', u'bygge', u'bygger', u'bygges', u'bygget', u'bygging', u'ca', u'cable', u'calculated', u'calendar', u'calgary', u'california', u'call', u'called', u'calling', u'came', u'camilla', u'campaign', u'canada', u'cancellation', u'cancelled', u'cancer', u'candidates', u'canica', u'cannot', u'capabilities', u'capability', u'capable', u'capacity', u'capex', u'capital', u'capture', u'car', u'card', u'cards', u'care', u'career', u'careers', u'cargo', u'caribbean', u'carl', u'carlsson', u'carnegie', u'carried', u'carrier', u'carriers', u'carry', u'carrying', u'carsten', u'case', u'cash', u'cashguard', u'cast', u'catherine', u'cathrin', u'cause', u'caused', u'cautionary', u'cautioned', u'cbm', u'cd', u'ce', u'cease', u'cecilie', u'cell', u'cells', u'cellular', u'cent', u'center', u'centers', u'central', u'centre', u'ceo', u'cermaq', u'cert', u'certain', u'certificate', u'cest', u'cet', u'cevira', u'cf', u'cfo', u'chain', u'chair', u'chairman', u'challenges', u'challenging', u'change', u'changed', u'changes', u'channel', u'chapter', u'characterised', u'characterized', u'charge', u'charges', u'charging', u'charlotte', u'charter', u'chartered', u'chartering', u'charters', u'chemical', u'chemicals', u'chevron', u'chief', u'chile', u'china', u'chinese', u'chip', u'chosen', u'chr', u'chris', u'christensen', u'christian', u'circular', u'circumstances', u'cirka', u'cities', u'city', u'cken', u'claim', u'claims', u'class', u'classification', u'classified', u'classifieds', u'claus', u'clavis', u'clavispharma', u'clear', u'clearer', u'click', u'client', u'clients', u'clinical', u'close', u'closed', u'closely', u'closing', u'cloud', u'cmv', u'cnp', u'co', u'coast', u'coastal', u'code', u'collaboration', u'collection', u'collier', u'colombia', u'columbia', u'com', u'combination', u'combine', u'combined', u'combining', u'come', u'comes', u'comfort', u'comfortable', u'coming', u'commence', u'commenced', u'commencement', u'commences', u'commencing', u'commensurate', u'comment', u'commented', u'commenting', u'comments', u'commercial', u'commercialization', u'commercialize', u'commercially', u'commission', u'commissioning', u'commitment', u'commitments', u'committed', u'committee', u'commodity', u'common', u'communicated', u'communication', u'communications', u'community', u'companies', u'company', u'comparable', u'compared', u'compensation', u'competence', u'competencies', u'competent', u'competition', u'competitive', u'competitiveness', u'complete', u'completed', u'completing', u'completion', u'complex', u'compliance', u'comply', u'components', u'composites', u'composition', u'comprehensive', u'comprise', u'comprises', u'comprising', u'computer', u'concept', u'concerning', u'concession', u'concluded', u'concludes', u'conclusion', u'condensate', u'condensed', u'condition', u'conditional', u'conditions', u'conduct', u'conducted', u'conference', u'confidence', u'confident', u'confirm', u'confirmation', u'confirmed', u'confirms', u'conjunction', u'connect', u'connected', u'connection', u'consent', u'consequence', u'consequently', u'consider', u'considerable', u'considerably', u'consideration', u'considered', u'considers', u'consist', u'consistent', u'consisting', u'consists', u'consolidated', u'consolidation', u'consortium', u'constant', u'constitute', u'constituting', u'construction', u'consultancy', u'consultants', u'consulting', u'consumer', u'consumers', u'consumption', u'contact', u'contacts', u'contain', u'contained', u'containers', u'containing', u'contains', u'contemplated', u'content', u'contents', u'contextvision', u'continental', u'contingencies', u'contingent', u'continuation', u'continue', u'continued', u'continues', u'continuing', u'continuous', u'contract', u'contracted', u'contractor', u'contractors', u'contracts', u'contractual', u'contribute', u'contributed', u'contribution', u'control', u'controlled', u'controller', u'controlling', u'controls', u'conventional', u'conversion', u'convert', u'converted', u'convertible', u'converto', u'coo', u'cooling', u'cooperation', u'copenhagen', u'copies', u'copy', u'core', u'corp', u'corporate', u'corporation', u'correct', u'correction', u'corresponding', u'corresponds', u'cost', u'costs', u'could', u'council', u'counsel', u'counter', u'countries', u'country', u'coupon', u'course', u'court', u'covenants', u'cover', u'coverage', u'covered', u'covering', u'covers', u'cp', u'cranes', u'create', u'created', u'creating', u'creation', u'credit', u'criteria', u'critical', u'crop', u'cross', u'crossed', u'crude', u'cruise', u'cruises', u'crux', u'cubic', u'culture', u'cure', u'currencies', u'currency', u'current', u'currently', u'custom', u'customary', u'customer', u'customers', u'cutting', u'cycle', u'cyclical', u'cyprus', u'cystoscopy', u'cysview', u'da', u'dag', u'dagens', u'dager', u'daglig', u'dahl', u'daily', u'dale', u'danish', u'danmark', u'danske', u'dat', u'data', u'datal', u'datarespons', u'date', u'dated', u'datert', u'dates', u'dato', u'datterselskap', u'datterselskaper', u'datterselskapet', u'david', u'day', u'days', u'dd', u'dde', u'de', u'deadline', u'deal', u'debt', u'decades', u'december', u'decided', u'decision', u'deck', u'declared', u'decline', u'declined', u'decrease', u'decreased', u'dedicated', u'deep', u'deepwater', u'defence', u'deferred', u'defined', u'degree', u'del', u'delayed', u'delays', u'delen', u'deler', u'delighted', u'deliver', u'delivered', u'deliveries', u'delivering', u'delivers', u'delivery', u'delta', u'delvis', u'demand', u'demanding', u'demerger', u'demonstrated', u'demonstrates', u'den', u'dene', u'denmark', u'denne', u'departementets', u'department', u'dependent', u'depending', u'deployed', u'deposit', u'depositary', u'depository', u'deposits', u'depreciation', u'depth', u'depths', u'deputy', u'der', u'deres', u'deretter', u'derfor', u'derivative', u'dermatology', u'dermed', u'dersom', u'described', u'description', u'desember', u'design', u'designed', u'despite', u'dess', u'det', u'detailed', u'details', u'detaljer', u'detection', u'determination', u'determine', u'determined', u'detnor', u'dette', u'develop', u'developed', u'developer', u'developers', u'developing', u'development', u'developments', u'develops', u'device', u'devices', u'dgiver', u'diagenic', u'diagnosis', u'diagnostic', u'dial', u'dialogue', u'diamond', u'dieset', u'differ', u'difference', u'differences', u'different', u'difficult', u'digital', u'digitale', u'diligence', u'diluted', u'dir', u'direct', u'directed', u'directional', u'directive', u'directly', u'director', u'directors', u'direkt', u'direkte', u'dirk', u'disclaimer', u'disclaimers', u'disclaims', u'disclosed', u'disclosure', u'discontinued', u'discount', u'discovered', u'discoveries', u'discovery', u'discretion', u'discussed', u'discussion', u'discussions', u'disease', u'diseases', u'display', u'disposal', u'disse', u'dissemination', u'distribusjon', u'distribute', u'distributed', u'distributing', u'distribution', u'district', u'divestment', u'divided', u'dividend', u'dividends', u'diving', u'division', u'divisions', u'dkk', u'dnb', u'dno', u'document', u'documentation', u'documents', u'dof', u'dokument', u'dollar', u'dolp', u'dolphin', u'dolphingeo', u'domestic', u'done', u'double', u'download', u'downloaded', u'downs', u'downstream', u'dr', u'drammensveien', u'draupne', u'drawn', u'drevet', u'drift', u'driften', u'driftsinntektene', u'driftsinntekter', u'driftskostnader', u'driftsresultat', u'driftsresultatet', u'drill', u'drilled', u'drilling', u'drive', u'driven', u'driver', u'drivers', u'drives', u'driving', u'drug', u'drugs', u'dry', u'dsel', u'du', u'dubai', u'due', u'duration', u'dvendig', u'dvendige', u'dwt', u'dybevig', u'dynamic', u'dyrnes', u'earlier', u'early', u'earn', u'earned', u'earnings', u'east', u'eastern', u'ebit', u'ebita', u'ebitda', u'ec', u'economic', u'economics', u'economy', u'ed', u'edge', u'eea', u'effect', u'effective', u'effectively', u'effects', u'effekt', u'effekter', u'effektiv', u'efficacy', u'efficiency', u'efficient', u'effort', u'efforts', u'egen', u'egenkapital', u'eget', u'egh', u'egil', u'egm', u'egne', u'egypt', u'eid', u'eide', u'eidesvik', u'eie', u'eien', u'eiendeler', u'eiendom', u'eiendommer', u'eiendomsselskap', u'eiendomsutviklere', u'eiendomsutvikling', u'eier', u'eierandel', u'eierskap', u'eies', u'eiet', u'eight', u'einar', u'eirik', u'either', u'eivind', u'ekornes', u'eks', u'eksisterende', u'ekskl', u'eksklusive', u'ekstraordin', u'el', u'eldar', u'elect', u'elected', u'election', u'electricity', u'electromagnetic', u'electronic', u'electronics', u'elektronikk', u'eli', u'eligible', u'elin', u'elise', u'eller', u'elliott', u'else', u'elstad', u'em', u'email', u'emas', u'emasoffshore', u'embedded', u'emerging', u'emgs', u'emirates', u'emisjon', u'emisjonen', u'emissions', u'employed', u'employee', u'employees', u'employment', u'employs', u'ems', u'en', u'enable', u'enabled', u'enables', u'enabling', u'enclosed', u'encountered', u'end', u'enda', u'ende', u'ended', u'endelig', u'endelige', u'endre', u'endret', u'endring', u'endringene', u'endringer', u'ends', u'endte', u'energi', u'energy', u'eng', u'engaged', u'engagement', u'engelhardtsen', u'engelsk', u'engineering', u'english', u'enhance', u'enhanced', u'enheter', u'enhver', u'enkelte', u'enn', u'enoch', u'enquiries', u'enrollment', u'enskilda', u'ensure', u'enter', u'entered', u'entering', u'enterprise', u'enterprises', u'enthusiastic', u'entire', u'entities', u'entitled', u'entity', u'entra', u'entrepren', u'entry', u'entusiastisk', u'environment', u'environmental', u'environments', u'eoc', u'epc', u'eps', u'equal', u'equals', u'equipment', u'equipped', u'equity', u'equivalent', u'equivalents', u'er', u'erfaring', u'erik', u'eriksen', u'erkl', u'erlend', u'erling', u'erverve', u'ervervet', u'esben', u'especially', u'espen', u'establish', u'established', u'establishing', u'establishment', u'estate', u'estimate', u'estimated', u'estimates', u'estimert', u'estland', u'estonia', u'et', u'etablere', u'etablert', u'ethylene', u'ett', u'etter', u'etterf', u'ettersom', u'ettersp', u'eu', u'eur', u'euro', u'europa', u'europe', u'european', u'europeiske', u'europris', u'evaluate', u'evaluation', u'even', u'evensen', u'event', u'events', u'eventuelle', u'ever', u'every', u'everything', u'evp', u'evry', u'ex', u'exceed', u'exceeds', u'excellent', u'except', u'excess', u'exchange', u'excited', u'exciting', u'excluding', u'exclusive', u'exclusively', u'executed', u'execution', u'executive', u'executives', u'exemption', u'exercisable', u'exercise', u'exercised', u'exercises', u'exercising', u'existing', u'expand', u'expanded', u'expanding', u'expansion', u'expect', u'expectations', u'expected', u'expects', u'expenditures', u'expense', u'expenses', u'experience', u'experienced', u'experiencing', u'expertise', u'expiration', u'expire', u'expires', u'expiry', u'exploration', u'explorationists', u'explore', u'explorer', u'export', u'exports', u'exposure', u'expressed', u'expression', u'expressions', u'extend', u'extended', u'extension', u'extensive', u'extent', u'external', u'extraordinary', u'extremely', u'ezra', u'fabrication', u'face', u'facilitate', u'facilities', u'facility', u'fact', u'factor', u'factors', u'facts', u'failure', u'fair', u'falck', u'fall', u'falling', u'falstad', u'family', u'far', u'farm', u'farmas', u'farming', u'farms', u'faroe', u'farstad', u'fart', u'fase', u'fast', u'faste', u'faster', u'fastsatt', u'fat', u'favourable', u'fax', u'fda', u'features', u'februar', u'february', u'fee', u'feed', u'fees', u'feet', u'felix', u'felles', u'felt', u'feltet', u'fem', u'ferd', u'ferdigstillelse', u'ferdigstilt', u'ferncliff', u'fertilizer', u'fertilizers', u'field', u'fields', u'figure', u'figures', u'fikk', u'file', u'filed', u'filing', u'film', u'final', u'finally', u'finance', u'financed', u'financial', u'financing', u'finans', u'finansdirekt', u'finansiell', u'finansielle', u'finansiering', u'finansmarkedet', u'finansposter', u'finanstilsynet', u'find', u'finding', u'fingerprint', u'finland', u'finn', u'finne', u'finner', u'finnes', u'finnmark', u'fire', u'firm', u'first', u'firstenergy', u'fiscal', u'fish', u'fishmeal', u'five', u'fixed', u'fjell', u'fjerde', u'fjor', u'fl', u'flakk', u'flat', u'flaten', u'flats', u'fleet', u'fleksibilitet', u'flere', u'flesj', u'flessum', u'fleste', u'flexibility', u'flexible', u'flng', u'floating', u'floor', u'flow', u'flows', u'fluctuations', u'fluid', u'fo', u'focus', u'focused', u'focuses', u'focusing', u'foe', u'fokus', u'fokuserer', u'follow', u'followed', u'following', u'follows', u'fond', u'food', u'footprint', u'foran', u'forbedre', u'forbedrer', u'forbedret', u'forbedring', u'forbehold', u'forbindelse', u'forblir', u'force', u'fordelt', u'forecast', u'forecasts', u'foreg', u'foreign', u'forel', u'foreligger', u'foresl', u'foretaksregisteret', u'foretatt', u'forfall', u'forfallsdato', u'forh', u'forhold', u'forland', u'forlenge', u'forlengelse', u'form', u'format', u'formation', u'former', u'forms', u'forn', u'fornebu', u'forpliktelser', u'forretningsomr', u'forretningsutvikling', u'forrige', u'forsikring', u'forslag', u'forslaget', u'forsvar', u'forth', u'fortrinnsretter', u'fortrinnsrettsemisjonen', u'fortsatt', u'fortsatte', u'fortsette', u'fortsetter', u'forutsatt', u'forvaltet', u'forvaltning', u'forventer', u'forventes', u'forventet', u'forward', u'fosen', u'fotodynamisk', u'found', u'foundation', u'founded', u'founder', u'four', u'fourth', u'fpso', u'fpsos', u'fr', u'fra', u'fram', u'frame', u'framework', u'france', u'frank', u'franklin', u'fred', u'fredag', u'fredrik', u'fredriksen', u'free', u'freeasa', u'freight', u'frem', u'fremg', u'fremover', u'fremtidig', u'fremtidige', u'friday', u'friendly', u'frn', u'frode', u'front', u'frontier', u'frontline', u'fso', u'fsru', u'fsrus', u'fuel', u'full', u'fullf', u'fullmakt', u'fullmakter', u'fullstendig', u'fullt', u'fully', u'funcom', u'functional', u'functions', u'fund', u'funded', u'funding', u'funds', u'funn', u'funnet', u'furthermore', u'furu', u'fusjonen', u'future', u'fy', u'ga', u'gain', u'gains', u'game', u'games', u'gaming', u'gamre', u'gang', u'ganger', u'gas', u'gases', u'gass', u'gassindustrien', u'gate', u'gbp', u'gc', u'ge', u'geir', u'gemcitabine', u'gene', u'general', u'generalforsamling', u'generalforsamlingen', u'generally', u'generate', u'generated', u'generation', u'generelle', u'generelt', u'geo', u'geological', u'geophysical', u'georgina', u'georgiou', u'geoscience', u'geoservices', u'ger', u'german', u'germany', u'get', u'geveran', u'gevinst', u'gevinster', u'ghana', u'gi', u'giaver', u'gig', u'gikk', u'giori', u'gir', u'giske', u'gitt', u'give', u'given', u'gives', u'giving', u'gj', u'gjeld', u'gjeldende', u'gjelder', u'gjelsvik', u'gjennom', u'gjennomf', u'gjennomsnittlig', u'gjennomsnittskurs', u'gjensidige', u'gjenv', u'gjenvalg', u'gjenvalgt', u'gjerde', u'gjort', u'glass', u'global', u'globale', u'globally', u'globalt', u'globe', u'gmbh', u'gmt', u'go', u'goal', u'goals', u'god', u'gode', u'godkjennelse', u'godkjenning', u'godkjent', u'godkjente', u'godt', u'godtgj', u'goh', u'going', u'gold', u'golden', u'goldman', u'good', u'gooden', u'goods', u'goodtech', u'goodwill', u'gordon', u'government', u'governmental', u'gr', u'grad', u'grade', u'grant', u'granted', u'gravel', u'gravity', u'great', u'greater', u'green', u'grefstad', u'grensesprengende', u'grete', u'grieg', u'gross', u'ground', u'group', u'groups', u'grow', u'growing', u'grown', u'growth', u'grunn', u'grunnet', u'grunnlag', u'gruppen', u'gruppens', u'grus', u'gster', u'guarantee', u'guaranteed', u'guarantees', u'guidance', u'guidelines', u'gulf', u'gundersen', u'gunnar', u'guts', u'gutted', u'ha', u'haakon', u'haavard', u'hadde', u'hagen', u'haico', u'half', u'halt', u'halv', u'halvor', u'halvparten', u'hamilton', u'hammer', u'han', u'hand', u'handel', u'handels', u'handelsbanken', u'handelsfl', u'handelsvaluta', u'handles', u'handling', u'hans', u'hansen', u'har', u'harald', u'hard', u'hardware', u'harsh', u'harstad', u'harvest', u'harvested', u'harvesting', u'haslestad', u'hatt', u'haug', u'haugan', u'haugen', u'haugestad', u'haugland', u'haul', u'havbruk', u'havfisk', u'havi', u'havila', u'havre', u'havsbr', u'havyard', u'hawk', u'hcv', u'head', u'headquarter', u'headquartered', u'headquarters', u'health', u'healthcare', u'healthy', u'heart', u'heat', u'heavy', u'hegge', u'hegnar', u'heidenreich', u'held', u'hele', u'heleid', u'heleide', u'helge', u'helhet', u'helland', u'help', u'helse', u'helsfyr', u'helt', u'hemant', u'hemen', u'hemisphere', u'hence', u'hendelser', u'henhold', u'henholdsvis', u'henning', u'henrik', u'henriksen', u'henry', u'hereby', u'herein', u'hereof', u'hereto', u'herunder', u'herved', u'hestdal', u'hexagon', u'hexvix', u'high', u'higher', u'highest', u'highlights', u'highly', u'hilde', u'hill', u'hire', u'historical', u'historie', u'history', u'hittil', u'hiv', u'hjem', u'hjemmeside', u'hjemmesider', u'hjemstat', u'hk', u'hle', u'hm', u'hms', u'hobbs', u'hoff', u'hokholt', u'hold', u'holder', u'holders', u'holdes', u'holding', u'holdings', u'holds', u'holdt', u'holst', u'holter', u'home', u'homepage', u'homes', u'honest', u'hong', u'horizontal', u'hos', u'hospital', u'host', u'hosted', u'hotel', u'hours', u'house', u'houses', u'housing', u'houston', u'hov', u'hovedkontor', u'hovedsak', u'hovedsakelig', u'however', u'hpv', u'hr', u'hrs', u'hse', u'hsseq', u'html', u'http', u'https', u'hug', u'hull', u'human', u'hun', u'huntington', u'hus', u'hver', u'hvert', u'hvilket', u'hvis', u'hvor', u'hvorav', u'hydro', u'hydrocarbon', u'hydrocarbons', u'hydrogen', u'hydros', u'hyundai', u'ias', u'ice', u'id', u'idc', u'identified', u'identifisert', u'identify', u'identifying', u'idex', u'idexasa', u'ie', u'ifrs', u'igaming', u'ige', u'igjen', u'ii', u'iii', u'ikke', u'ikm', u'im', u'imaging', u'imidlertid', u'immediate', u'immediately', u'immune', u'impact', u'impacted', u'impairment', u'implement', u'implementation', u'implemented', u'implementing', u'implied', u'implies', u'import', u'importance', u'important', u'imposed', u'impossible', u'imprecision', u'improve', u'improved', u'improvement', u'improvements', u'improves', u'improving', u'ims', u'imsk', u'inaccurate', u'inata', u'inc', u'incentive', u'incl', u'include', u'included', u'includes', u'including', u'income', u'incorporated', u'incorporating', u'incorporation', u'increase', u'increased', u'increases', u'increasing', u'incurred', u'independent', u'index', u'india', u'indicated', u'indirect', u'indirectly', u'indirekte', u'individual', u'individuals', u'indonesia', u'industri', u'industrial', u'industriell', u'industrielle', u'industrien', u'industrier', u'industries', u'industry', u'info', u'inform', u'informasjon', u'informasjonen', u'informasjonsdirekt', u'informasjonspliktig', u'information', u'informed', u'infrastructure', u'infrastruktur', u'infrastrukturtjenester', u'inge', u'ingen', u'ingeni', u'inger', u'ingrid', u'inherent', u'inherently', u'initial', u'initially', u'initiated', u'initiatives', u'inkluderer', u'inkludert', u'inlow', u'inn', u'inneb', u'inneholder', u'innen', u'innenfor', u'inng', u'innkalling', u'innkallingen', u'innkj', u'innl', u'innovation', u'innovative', u'innspurten', u'innstilling', u'inntektene', u'inntekter', u'inntil', u'insider', u'insiders', u'installation', u'installations', u'installed', u'institute', u'institutional', u'instructions', u'instrument', u'instruments', u'insurance', u'intake', u'integrated', u'integration', u'integrert', u'intellectual', u'intend', u'intended', u'intends', u'intent', u'intention', u'inter', u'interest', u'interested', u'interests', u'interface', u'interim', u'internal', u'internasjonal', u'internasjonale', u'internasjonalt', u'international', u'internet', u'internett', u'interoil', u'interpretation', u'intervention', u'intex', u'intexresources', u'introduction', u'inventory', u'invesco', u'invest', u'investec', u'invested', u'investeringer', u'investigation', u'investing', u'investment', u'investments', u'investor', u'investorer', u'investorkontakt', u'investorrelations', u'investors', u'invitation', u'invite', u'invited', u'inviterer', u'invites', u'involve', u'involved', u'involvement', u'involvering', u'iox', u'ip', u'ipo', u'ir', u'iraq', u'ireland', u'irene', u'isabel', u'isaksen', u'isin', u'islands', u'ismar', u'issuance', u'issue', u'issued', u'issuer', u'issues', u'issuing', u'item', u'items', u'itera', u'iv', u'ivar', u'ivd', u'iversen', u'jack', u'jacobsen', u'jakarta', u'jakobsen', u'james', u'jan', u'janeiro', u'janne', u'jannik', u'januar', u'january', u'japan', u'jarle', u'jason', u'jeg', u'jens', u'jensen', u'jette', u'jf', u'jo', u'johan', u'johannes', u'johannessen', u'johansen', u'john', u'johnsen', u'join', u'joined', u'joining', u'joint', u'jointly', u'jon', u'jonas', u'jorgen', u'jostein', u'jr', u'juli', u'july', u'june', u'juni', u'jurisdiction', u'jurisdictions', u'justert', u'ka', u'kakwa', u'kalender', u'kalleberg', u'kamath', u'kan', u'kapasitet', u'kapital', u'kapitalforh', u'karen', u'kari', u'karl', u'katherine', u'kathrine', u'ke', u'keep', u'kende', u'kenneth', u'ker', u'kerr', u'key', u'kg', u'kh', u'kigen', u'kildemo', u'killingland', u'kilo', u'kilometer', u'kilometres', u'kina', u'kingdom', u'kitron', u'kj', u'kjell', u'kjennetegnes', u'kjent', u'kjetil', u'kkeltall', u'kl', u'kleven', u'klokken', u'klungtvedt', u'km', u'kning', u'kningen', u'knowledge', u'known', u'knudsen', u'knut', u'knyttet', u'kode', u'kog', u'kokrim', u'kombinasjon', u'komme', u'kommende', u'kommer', u'kommune', u'kommunikasjon', u'kommunikasjonsdirekt', u'kommunikasjonssjef', u'kompetanse', u'komplett', u'komponenter', u'kon', u'konferansesenter', u'kong', u'kongsberg', u'kongsbergautomotive', u'konomi', u'konomiske', u'konsern', u'konserndirekt', u'konsernet', u'konsernets', u'konsernledelsen', u'konsernsjef', u'konsesjoner', u'konsolidert', u'konstant', u'konstituert', u'kontakt', u'kontaktperson', u'kontaktpersoner', u'kontantstr', u'kontor', u'kontorarealene', u'kontorer', u'kontorlokaler', u'kontrakt', u'kontrakten', u'kontraktene', u'kontrakter', u'kontrollerer', u'kontrollert', u'korea', u'korsvold', u'kort', u'kostnadene', u'kostnader', u'kr', u'kraft', u'krav', u'kravene', u'kreft', u'krevende', u'kristian', u'kristin', u'kroner', u'kt', u'kte', u'kuala', u'kun', u'kunde', u'kundene', u'kundenes', u'kunder', u'kunne', u'kunnskapsbasert', u'kurdistan', u'kurs', u'kv', u'kvaer', u'kvaerner', u'kvalitet', u'kvartal', u'kvartalet', u'kvartalsrapport', u'kvartalsrapporten', u'kvidal', u'labels', u'labour', u'lade', u'lady', u'lag', u'lager', u'lagt', u'laks', u'lance', u'land', u'lang', u'langballe', u'lange', u'langsiktig', u'langsiktige', u'langt', u'language', u'large', u'largely', u'larger', u'largest', u'larnaca', u'lars', u'larsen', u'lasse', u'last', u'lastes', u'late', u'later', u'latest', u'latin', u'latvia', u'launch', u'launched', u'lav', u'lave', u'lavere', u'law', u'lawful', u'lawfully', u'laws', u'lay', u'le', u'lead', u'leader', u'leadership', u'leading', u'learn', u'lease', u'least', u'led', u'ledd', u'ledelse', u'ledende', u'leder', u'ledere', u'ledes', u'legal', u'legemidler', u'legger', u'leif', u'leiro', u'lenders', u'lending', u'lene', u'ler', u'lerstad', u'les', u'lesions', u'less', u'lesund', u'let', u'leteaktivitet', u'leting', u'letter', u'letting', u'level', u'levels', u'leveraging', u'leverand', u'leveranse', u'leveransene', u'leveranser', u'levere', u'leverer', u'leveres', u'levering', u'levert', u'leverte', u'lewek', u'lgc', u'lge', u'lgende', u'lger', u'lges', u'liabilities', u'liability', u'libraries', u'library', u'licence', u'licences', u'license', u'licenses', u'licensing', u'lie', u'lien', u'lieungh', u'life', u'lift', u'ligger', u'light', u'like', u'likely', u'likestilt', u'likevel', u'limassol', u'limitation', u'limited', u'lindb', u'lindholt', u'lindqvist', u'line', u'lines', u'lingen', u'link', u'linked', u'linkedin', u'liquefied', u'liquid', u'liquidity', u'liquids', u'lisens', u'lisensen', u'lisensrunder', u'list', u'liste', u'listed', u'listen', u'listing', u'litauen', u'lithuania', u'liv', u'live', u'livsforsikring', u'lje', u'ljen', u'llc', u'llp', u'lng', u'load', u'loan', u'loans', u'local', u'located', u'location', u'locations', u'lock', u'loe', u'log', u'login', u'logistics', u'logs', u'lokal', u'lokale', u'lokaler', u'lokalisert', u'london', u'long', u'longer', u'look', u'looking', u'lorentzen', u'loss', u'losses', u'lotte', u'low', u'lower', u'lp', u'lpg', u'ltd', u'lukket', u'lulita', u'lumpur', u'lund', u'lunde', u'lundin', u'luxembourg', u'lydende', u'lys', u'lysaker', u'maca', u'machine', u'made', u'madsen', u'mageli', u'magnetic', u'magnus', u'mai', u'mail', u'mailbox', u'main', u'mainly', u'maintain', u'maintained', u'maintains', u'maintenance', u'major', u'majority', u'make', u'makes', u'making', u'malaysia', u'man', u'manage', u'managed', u'management', u'manager', u'managers', u'managing', u'mandag', u'mandatory', u'mange', u'manner', u'manufacturer', u'manufacturers', u'manufacturing', u'manum', u'many', u'marathon', u'march', u'mardia', u'margin', u'marginen', u'marginer', u'margins', u'marianne', u'marie', u'mariken', u'marin', u'marine', u'marit', u'maritim', u'maritime', u'mark', u'marked', u'markedene', u'markeder', u'markedet', u'markedsf', u'markedssegmenter', u'market', u'marketed', u'marketing', u'marketplace', u'markets', u'mars', u'martin', u'maskin', u'mass', u'master', u'mat', u'matching', u'material', u'materially', u'materials', u'matter', u'matters', u'mature', u'maturing', u'maturity', u'maximum', u'may', u'mb', u'mboepd', u'mcitect', u'md', u'meal', u'mean', u'meaning', u'means', u'measure', u'measured', u'measures', u'med', u'medarbeidere', u'medeiere', u'medf', u'media', u'medical', u'medisinsk', u'medistim', u'medium', u'medlem', u'medlemmer', u'meet', u'meeting', u'meetings', u'meget', u'melbourne', u'melding', u'meldingen', u'meldt', u'melhus', u'meling', u'mellom', u'member', u'members', u'memorandum', u'memory', u'men', u'mener', u'mens', u'mentioned', u'mer', u'merchant', u'merckx', u'merete', u'merger', u'mest', u'metal', u'meter', u'meters', u'method', u'methods', u'metres', u'mexico', u'miao', u'michael', u'michelet', u'mid', u'middle', u'midstream', u'midt', u'midtlie', u'mierendorf', u'might', u'mikkel', u'mikkelsen', u'milep', u'milestone', u'milj', u'mill', u'milliarder', u'million', u'millioner', u'mindoro', u'mindre', u'mine', u'mineral', u'mini', u'minimum', u'mining', u'ministry', u'minority', u'minus', u'minutes', u'mission', u'mix', u'mj', u'mmboe', u'mmstb', u'mnazi', u'mnd', u'mnok', u'mob', u'mobil', u'mobile', u'mobility', u'model', u'moderate', u'modern', u'moderne', u'module', u'modules', u'moe', u'molland', u'monday', u'monetisation', u'monitoring', u'mons', u'month', u'months', u'montney', u'morgan', u'morning', u'morpol', u'morten', u'mot', u'motion', u'motta', u'mottatt', u'mountain', u'move', u'moving', u'mozambique', u'mr', u'mrd', u'ms', u'msek', u'mt', u'much', u'mulig', u'muliggj', u'mulighet', u'muligheter', u'multi', u'multiclient', u'multiconsult', u'multiple', u'municipality', u'munkedamsveien', u'musd', u'must', u'mva', u'mw', u'myhre', u'nafstad', u'name', u'named', u'namsos', u'nanovector', u'napatech', u'nasdaq', u'natalie', u'national', u'natural', u'nature', u'nava', u'navamedic', u'navigea', u'navn', u'ncs', u'nd', u'ne', u'near', u'nearly', u'neavtalens', u'nebel', u'nebeskrivelsens', u'necessarily', u'necessary', u'ned', u'nedene', u'neder', u'nedgang', u'nedgangen', u'nedskrivninger', u'need', u'needed', u'needs', u'negativ', u'negative', u'negatively', u'negativt', u'negotiations', u'neither', u'nel', u'nen', u'neste', u'nestleder', u'net', u'neteland', u'netherlands', u'nets', u'netto', u'nettsider', u'network', u'networks', u'new', u'newbuilding', u'newly', u'news', u'newsletter', u'newsweb', u'next', u'nextgentel', u'nfc', u'nges', u'nibor', u'nickel', u'nickelmountain', u'nielsen', u'nigeria', u'nils', u'nilsen', u'nilsson', u'nina', u'nine', u'nini', u'nio', u'niv', u'nj', u'nmg', u'nn', u'nnb', u'nne', u'nnen', u'nning', u'nningen', u'nnsom', u'nnsomhet', u'nnsomheten', u'noe', u'noen', u'nok', u'nominal', u'nominated', u'nomination', u'non', u'none', u'nooryani', u'nopec', u'nord', u'nordahl', u'nordea', u'norden', u'nordic', u'nordiske', u'nordsj', u'noreco', u'norecos', u'norgas', u'norge', u'norges', u'normal', u'normand', u'norsk', u'norske', u'norskeskog', u'north', u'northern', u'norway', u'norwayroyalsalmon', u'norwegian', u'noryards', u'note', u'noted', u'noteres', u'notering', u'noteringsdag', u'notert', u'notes', u'notice', u'notices', u'notification', u'notified', u'notifies', u'notify', u'novel', u'november', u'npel', u'npro', u'nrc', u'nrs', u'nsker', u'nsteby', u'ntakers', u'nts', u'number', u'numbers', u'numerous', u'nutrition', u'ny', u'nye', u'nylander', u'nylig', u'nyse', u'nytt', u'oaktreeadvisers', u'objective', u'objectives', u'obligasjoner', u'obligasjonseierm', u'obligasjonsl', u'obligation', u'obligations', u'obligo', u'obma', u'oboc', u'obos', u'observation', u'observe', u'obtained', u'occur', u'ocean', u'oceanteam', u'och', u'ocp', u'october', u'ocy', u'odd', u'odfjell', u'oe', u'oem', u'oems', u'offensivt', u'offentlig', u'offentlige', u'offentliggj', u'offentliggjort', u'offer', u'offered', u'offering', u'offeror', u'offers', u'office', u'officer', u'offices', u'offloading', u'offset', u'offshore', u'og', u'ogs', u'oi', u'oil', u'oilfield', u'oktober', u'ol', u'ola', u'olav', u'old', u'ole', u'olje', u'oljeekvivalenter', u'oljeindustrien', u'oljeselskap', u'oljeservice', u'olsen', u'olt', u'om', u'oman', u'ombudstvedt', u'omfattende', u'omfatter', u'omj', u'omkring', u'omr', u'omsatte', u'omsetning', u'omsetningen', u'omtrent', u'omx', u'oncology', u'one', u'ongoing', u'online', u'onsdag', u'onshore', u'open', u'opening', u'opera', u'operasjonell', u'operasjonelle', u'operasjoner', u'operat', u'operate', u'operated', u'operates', u'operating', u'operation', u'operational', u'operations', u'operator', u'operators', u'opererer', u'opinion', u'opinions', u'opp', u'oppdrag', u'oppdraget', u'oppf', u'oppgj', u'oppkj', u'opplever', u'opplysningen', u'opplysninger', u'oppn', u'opportunities', u'opportunity', u'oppstart', u'oppstarten', u'opptak', u'opptil', u'opsahl', u'opsjon', u'opsjonene', u'opsjoner', u'opsjonsprogram', u'opstad', u'optimal', u'option', u'options', u'order', u'ordered', u'orders', u'ordin', u'ordinary', u'ordning', u'ordre', u'ordreinngang', u'ordrereserve', u'ordrereserven', u'ore', u'organic', u'organisasjon', u'organisation', u'organisk', u'organization', u'organizations', u'original', u'orkla', u'orklas', u'ose', u'oselvar', u'osg', u'oslo', u'oslobors', u'oss', u'osv', u'others', u'otherwise', u'ouff', u'ounces', u'outcome', u'outlook', u'outside', u'outsourcing', u'outstanding', u'ove', u'ovennevnte', u'overall', u'overf', u'overfor', u'overnattende', u'overnight', u'oversikt', u'overskudd', u'oversubscribed', u'overview', u'owned', u'owner', u'owners', u'ownership', u'owning', u'owns', u'pacific', u'page', u'pages', u'paid', u'pal', u'panamax', u'panmure', u'panoro', u'panoroenergy', u'paper', u'par', u'paragraph', u'parallel', u'parent', u'pareto', u'park', u'parkering', u'parking', u'part', u'partene', u'partially', u'participant', u'participants', u'participate', u'participating', u'participation', u'particular', u'particularly', u'parties', u'partly', u'partner', u'partnere', u'partners', u'partnership', u'partnerships', u'parts', u'party', u'pasienter', u'passcode', u'passed', u'password', u'past', u'patent', u'patented', u'patents', u'patient', u'patients', u'paul', u'pay', u'payable', u'paying', u'payment', u'payments', u'pc', u'pcs', u'pd', u'pdf', u'pe', u'peder', u'pedersen', u'pelagic', u'pen', u'pende', u'pending', u'pension', u'pensjon', u'pent', u'people', u'per', u'percent', u'percentage', u'perestroika', u'perform', u'performance', u'performed', u'performing', u'period', u'periode', u'perioden', u'periods', u'permanent', u'permit', u'person', u'personal', u'personer', u'personlig', u'personnel', u'persons', u'pertaining', u'perth', u'peru', u'pet', u'peter', u'petid', u'petoro', u'petrobras', u'petrochemical', u'petroleum', u'petrolia', u'petter', u'pettersen', u'pgs', u'pharma', u'pharmaceutical', u'pharmacon', u'phase', u'philippe', u'philippines', u'phillips', u'pho', u'phone', u'phones', u'photocure', u'photodynamic', u'photos', u'php', u'pig', u'pige', u'pioneering', u'pipeline', u'pl', u'place', u'placebo', u'placed', u'placement', u'placing', u'plan', u'planen', u'planlagt', u'planlagte', u'planned', u'planning', u'plans', u'plant', u'plants', u'plass', u'platform', u'platforms', u'platou', u'plattform', u'play', u'player', u'players', u'plc', u'plcs', u'please', u'pleased', u'pleym', u'plus', u'pluss', u'pm', u'point', u'points', u'polar', u'polarcus', u'polaris', u'pole', u'policy', u'political', u'polysilicon', u'population', u'port', u'portef', u'portfolio', u'portfolios', u'portion', u'posisjon', u'posisjonert', u'position', u'positioned', u'positioning', u'positions', u'positiv', u'positive', u'positively', u'positivt', u'possession', u'possessions', u'possibility', u'possible', u'post', u'posted', u'poster', u'potential', u'potentially', u'power', u'powers', u'pr', u'pre', u'preceding', u'predict', u'predicted', u'preferred', u'preget', u'preliminary', u'premises', u'premium', u'premiums', u'prepared', u'presence', u'present', u'presentasjon', u'presentasjonen', u'presentation', u'presentations', u'presented', u'presentere', u'presenterer', u'presentert', u'presents', u'president', u'press', u'presse', u'pressekontakt', u'pressemeldingen', u'pressure', u'previous', u'previously', u'price', u'prices', u'pricing', u'prim', u'primarily', u'primary', u'principal', u'principle', u'print', u'printed', u'prior', u'priority', u'pris', u'priser', u'privat', u'private', u'pro', u'procedures', u'proceeds', u'process', u'processes', u'processing', u'procurement', u'produce', u'produced', u'producer', u'producers', u'produces', u'producing', u'product', u'production', u'productivity', u'products', u'produksjon', u'produksjonen', u'produkt', u'produkter', u'produsere', u'produserer', u'profesjonell', u'professional', u'professionals', u'professor', u'profile', u'profit', u'profitability', u'profitable', u'profits', u'program', u'programme', u'programmes', u'programmet', u'programs', u'progress', u'progressing', u'project', u'projected', u'projections', u'projects', u'promising', u'promotion', u'properties', u'property', u'proporsjonal', u'proportion', u'proportionate', u'proposal', u'proposals', u'propose', u'proposed', u'proposes', u'proprietary', u'propulsion', u'prosafe', u'prosent', u'prosess', u'prosessen', u'prosjekt', u'prosjekter', u'prosjektet', u'prosjektleder', u'prospect', u'prospective', u'prospects', u'prospectus', u'prospekt', u'prospektet', u'protech', u'protected', u'protection', u'protections', u'protector', u'protokoll', u'proud', u'prove', u'proved', u'proven', u'provide', u'provided', u'provider', u'providers', u'provides', u'providing', u'provision', u'provisions', u'proxies', u'proxy', u'prs', u'psi', u'psigroup', u'psprogrammet', u'psv', u'psvs', u'pt', u'pte', u'publ', u'public', u'publication', u'publicly', u'publisert', u'publish', u'published', u'publishers', u'pukk', u'purchase', u'purchased', u'purchases', u'purchasing', u'pure', u'purpose', u'purposes', u'pursuant', u'pursue', u'put', u'qfr', u'qualified', u'quality', u'quarter', u'quarterly', u'quarters', u'quebec', u'queries', u'questerre', u'questions', u'quoted', u'rabatt', u'rackcdu', u'radisson', u'ragnvaldsen', u'raised', u'raising', u'ralph', u'ramform', u'randomized', u'range', u'ranging', u'ranta', u'rapidly', u'rapport', u'rapporten', u'rapporterer', u'rapportert', u'rata', u'rate', u'rates', u'ratio', u'raw', u'rd', u're', u'reach', u'reached', u'read', u'reader', u'readers', u'ready', u'real', u'realised', u'realisert', u'realises', u'realized', u'reason', u'reasonable', u'reasons', u'rec', u'receipt', u'receivables', u'receive', u'received', u'receiving', u'recent', u'recently', u'recgroup', u'recipient', u'recognised', u'recognition', u'recognized', u'recommendation', u'recommendations', u'recommended', u'record', u'recorded', u'recording', u'recovery', u'recsilicon', u'recurring', u'recycling', u'red', u'redeemed', u'redelig', u'redemption', u'reduce', u'reduced', u'reduces', u'reducing', u'reduction', u'reductions', u'reduksjon', u'redusere', u'reduserer', u'redusert', u'reed', u'ref', u'refer', u'referanserente', u'reference', u'referred', u'refers', u'refinancing', u'reflect', u'reflected', u'reflecting', u'reflects', u'regard', u'regarding', u'regards', u'regasification', u'regin', u'region', u'regional', u'regionen', u'regions', u'register', u'registered', u'registration', u'registrering', u'registrert', u'registrerte', u'regnskap', u'regnskapet', u'regnskaps', u'regnskapsmessig', u'regulated', u'regulation', u'regulations', u'regulatory', u'reid', u'reinertsen', u'reinlund', u'reitan', u'rekke', u'rekraftig', u'rekreft', u'relate', u'related', u'relatert', u'relaterte', u'relates', u'relating', u'relation', u'relations', u'relationship', u'relationships', u'relative', u'relatively', u'release', u'released', u'releases', u'relevant', u'reliable', u'reliance', u'relied', u'relse', u'rem', u'remain', u'remainder', u'remained', u'remaining', u'remains', u'remman', u'remote', u'remuneration', u'ren', u'rende', u'rendyrket', u'rene', u'renewable', u'renewables', u'renewed', u'renonorden', u'rensen', u'rental', u'rente', u'renteb', u'rentebindindingsperiode', u'rentesats', u'repair', u'reparasjonsemisjonen', u'repayment', u'replace', u'replacement', u'replay', u'report', u'reported', u'reporting', u'reports', u'represent', u'representative', u'representatives', u'represented', u'representerer', u'representert', u'representing', u'represents', u'republic', u'repurchase', u'repurchased', u'request', u'requested', u'require', u'required', u'requirement', u'requirements', u'rer', u'res', u'research', u'reserve', u'reserves', u'reservoir', u'reservoirs', u'resident', u'residential', u'resigned', u'resolution', u'resolutions', u'resolve', u'resolved', u'resource', u'resources', u'respect', u'respective', u'respectively', u'respons', u'response', u'responses', u'responsibility', u'responsible', u'ressurser', u'rest', u'resten', u'resterende', u'restricted', u'restrictions', u'restructuring', u'result', u'resultat', u'resultatene', u'resultater', u'resultatet', u'resulted', u'resulting', u'results', u'ret', u'retail', u'retailers', u'retain', u'retained', u'rets', u'rett', u'rettede', u'rettet', u'rettigheter', u'return', u'returns', u'revenue', u'revenues', u'reverse', u'review', u'reviewed', u'revise', u'revised', u'revisor', u'revlimid', u'revolving', u'reynolds', u'rge', u'rgen', u'richard', u'rieber', u'rig', u'right', u'rights', u'rigs', u'rikard', u'ring', u'ringen', u'ringsdepartementet', u'ringskravene', u'rinnsider', u'rinnsidere', u'rio', u'riser', u'risk', u'risks', u'risnes', u'rjan', u'rlig', u'rlige', u'rmere', u'rn', u'rner', u'road', u'roadmap', u'roads', u'roar', u'robert', u'robin', u'robust', u'rod', u'roe', u'rogaland', u'rogn', u'role', u'rolf', u'rolled', u'rolv', u'romfart', u'ronny', u'room', u'rose', u'rosenberg', u'round', u'rounds', u'rov', u'roverud', u'rovuma', u'royal', u'rre', u'rrelse', u'rret', u'rs', u'rsaken', u'rsberetning', u'rsel', u'rselen', u'rselskap', u'rshavn', u'rsm', u'rsmelding', u'rsmeldingen', u'rsmeldinger', u'rsnoterte', u'rsrapport', u'rsrapporten', u'rsregnskap', u'rsregnskapet', u'rsresultat', u'rsst', u'rst', u'rste', u'rsus', u'rt', u'rte', u'rubrikk', u'rud', u'rule', u'rules', u'rum', u'run', u'rundt', u'rune', u'russia', u'russland', u'rv', u'ryssdal', u'sa', u'sabaro', u'sachs', u'saether', u'safe', u'safer', u'safety', u'said', u'saker', u'salary', u'sale', u'sales', u'salg', u'salget', u'salmar', u'salmon', u'samarbeid', u'samarbeidet', u'samfunnskontakt', u'samlede', u'samlet', u'samme', u'sammen', u'sammenlignet', u'sammenliknet', u'sammensl', u'samsvar', u'samt', u'samtidig', u'samtlige', u'san', u'sand', u'sandnes', u'sandtorv', u'sandvika', u'sapa', u'sapurakencana', u'satisfactory', u'satisfied', u'satisfy', u'satt', u'saugbrugs', u'saving', u'savings', u'saw', u'says', u'sbx', u'scale', u'scana', u'scandinavia', u'scandinavian', u'scatec', u'schedule', u'scheduled', u'scheme', u'schibsted', u'school', u'schumann', u'science', u'scope', u'scotland', u'scott', u'scottish', u'se', u'sea', u'seabed', u'seabird', u'seadrill', u'seafarers', u'seafood', u'seafoods', u'seamlessly', u'search', u'season', u'seasonal', u'seat', u'seb', u'sec', u'second', u'secondary', u'secret', u'section', u'sections', u'sector', u'sectors', u'secure', u'secured', u'securing', u'securities', u'security', u'see', u'seek', u'seeks', u'seen', u'sees', u'seg', u'segment', u'segmentet', u'segments', u'seismic', u'sek', u'seks', u'sektor', u'sektorliste', u'selected', u'selge', u'selger', u'sell', u'seller', u'selling', u'sells', u'selskap', u'selskapene', u'selskaper', u'selskapet', u'selskapets', u'selv', u'selvaag', u'selvaagbolig', u'semi', u'semiconductor', u'send', u'sendes', u'sendt', u'senere', u'senest', u'senior', u'sensing', u'sensor', u'sensors', u'sent', u'sentral', u'separate', u'september', u'ser', u'series', u'sertifikatl', u'serve', u'served', u'server', u'servers', u'service', u'servicefart', u'services', u'session', u'set', u'sett', u'setter', u'settled', u'settlement', u'sevan', u'sevanmarine', u'seven', u'several', u'shale', u'shall', u'shallow', u'share', u'shareholder', u'shareholders', u'shareholding', u'shareholdings', u'shares', u'sheet', u'shelf', u'shell', u'shetland', u'ship', u'shipbuilding', u'shipping', u'shippingklubben', u'ships', u'shipyard', u'short', u'shortly', u'show', u'showed', u'shown', u'shows', u'shut', u'shuttle', u'side', u'siden', u'siem', u'sier', u'sign', u'signed', u'signert', u'significant', u'significantly', u'signing', u'signs', u'sikker', u'sikkerhet', u'sikre', u'sikrer', u'sikret', u'silicon', u'similar', u'simonsen', u'simultaneously', u'sin', u'since', u'sine', u'singapore', u'single', u'siri', u'siste', u'site', u'sites', u'sitt', u'situasjonen', u'situation', u'six', u'size', u'sj', u'sk', u'skal', u'skandi', u'skandinavias', u'skandinaviska', u'skape', u'skaper', u'skatt', u'skaugen', u'skeie', u'skip', u'skipene', u'skipet', u'skje', u'skjelle', u'skjer', u'skog', u'skudeneshavn', u'skyldes', u'sl', u'slaktevolum', u'slightly', u'slik', u'slike', u'slutt', u'slutten', u'sluttf', u'small', u'smaller', u'smart', u'smartcards', u'smartfinger', u'smith', u'smolt', u'snart', u'sni', u'sning', u'sningen', u'sninger', u'sningskurs', u'snittkurs', u'snl', u'social', u'society', u'soff', u'software', u'sokkel', u'solar', u'solbakken', u'solberg', u'sold', u'sole', u'solgt', u'solgte', u'solheim', u'solicitation', u'solid', u'solstad', u'solution', u'solutions', u'solvang', u'solveig', u'solvency', u'som', u'somewhat', u'songa', u'songedal', u'soon', u'sorting', u'sound', u'source', u'sources', u'sourcing', u'south', u'southern', u'sp', u'space', u'spain', u'span', u'sparebank', u'speak', u'special', u'specialised', u'specialises', u'specialist', u'specialized', u'specializes', u'specializing', u'specialty', u'specific', u'specified', u'spectrum', u'spectrumasa', u'spending', u'spennende', u'spesialkompetanse', u'spesielt', u'spetalen', u'split', u'sponsored', u'sports', u'spot', u'spp', u'spring', u'spt', u'square', u'sr', u'srbank', u'srs', u'st', u'stabil', u'stabilisation', u'stabilization', u'stable', u'stadig', u'staff', u'stage', u'stages', u'stake', u'stakes', u'stakkestad', u'stand', u'standard', u'standards', u'stangeland', u'stanley', u'starr', u'start', u'starte', u'started', u'starten', u'starter', u'startet', u'starting', u'starts', u'state', u'stated', u'statement', u'statements', u'staten', u'states', u'stations', u'statoil', u'statoils', u'status', u'stavanger', u'stavseng', u'stay', u'stb', u'ste', u'steady', u'sted', u'steel', u'steen', u'stefan', u'steffen', u'steg', u'steigedal', u'stein', u'steinar', u'stemme', u'stemmene', u'stemmer', u'sten', u'stenberg', u'step', u'steps', u'sterk', u'sterke', u'sterkt', u'stiftelsen', u'stigset', u'still', u'stille', u'stilling', u'stillingen', u'stl', u'sto', u'stock', u'stockholm', u'stolt', u'stolthaven', u'stor', u'storage', u'storbritannia', u'store', u'storebrand', u'stores', u'storm', u'stormcapital', u'stort', u'stortingsgaten', u'str', u'stranden', u'strategi', u'strategic', u'strategies', u'strategisk', u'strategiske', u'strategy', u'stray', u'stream', u'streamer', u'street', u'strength', u'strengthen', u'strengthened', u'strengthening', u'strengthens', u'strike', u'strong', u'stronger', u'structural', u'structure', u'structures', u'studien', u'studies', u'study', u'stugaard', u'stx', u'styre', u'styreformann', u'styreleder', u'styrem', u'styremedlem', u'styremedlemmer', u'styret', u'styrets', u'styrke', u'styrker', u'styrket', u'sub', u'subc', u'subject', u'submersible', u'submit', u'submitted', u'subordinated', u'subscribe', u'subscribed', u'subscriber', u'subscribers', u'subscription', u'subscriptions', u'subsea', u'subsequent', u'subsequently', u'subsidiaries', u'subsidiary', u'substantial', u'substantially', u'subsurface', u'success', u'successful', u'successfully', u'suezmax', u'sufficient', u'summary', u'summer', u'summons', u'sundal', u'sundby', u'sundt', u'superior', u'supervisory', u'supplier', u'suppliers', u'supplies', u'supply', u'support', u'supported', u'supporting', u'supports', u'supramax', u'sure', u'surface', u'surgery', u'surplus', u'survey', u'surveys', u'sustainable', u'sv', u'svakere', u'svein', u'sveinung', u'svela', u'sven', u'svendsen', u'svenn', u'svenske', u'sverdrup', u'sverige', u'sverre', u'svp', u'swap', u'swedbank', u'sweden', u'swedish', u'swipe', u'switzerland', u'sykdom', u'symbol', u'synergies', u'synthetic', u'system', u'systemer', u'systems', u'syvertsen', u'ta', u'taiwan', u'take', u'taken', u'takes', u'taking', u'tall', u'tank', u'tanker', u'tankers', u'tanzania', u'tap', u'tar', u'target', u'targeted', u'targeting', u'targets', u'tas', u'tatt', u'tawke', u'tax', u'taxes', u'te', u'team', u'teams', u'tech', u'technical', u'technip', u'technological', u'technologies', u'technology', u'teekay', u'tegne', u'tegnet', u'tegningsinnbydelsens', u'tegningskurs', u'tegningsperioden', u'tegningsretter', u'teigen', u'tekniske', u'teknologi', u'teknologiselskap', u'tel', u'telecommunications', u'telecoms', u'teleconference', u'telefon', u'telefonkonferanse', u'telefonkonferansen', u'telekom', u'telenor', u'telenors', u'telephone', u'telio', u'template', u'temporary', u'ten', u'tenants', u'tender', u'ter', u'terje', u'term', u'terminal', u'terminals', u'terminate', u'terminated', u'termination', u'terms', u'territories', u'test', u'tested', u'testing', u'tests', u'tet', u'tgs', u'tgsgy', u'th', u'thailand', u'thank', u'ther', u'therapeutic', u'thereafter', u'thereby', u'therefore', u'thin', u'thinfilm', u'things', u'third', u'thomas', u'thon', u'thor', u'thoresen', u'thousand', u'three', u'threshold', u'throughout', u'thursday', u'thus', u'ti', u'ticker', u'tickeren', u'tid', u'tide', u'tiden', u'tidlig', u'tidligere', u'tidspunkt', u'tie', u'tier', u'tight', u'til', u'tilbake', u'tilbakekj', u'tilbud', u'tilbudet', u'tilby', u'tilbyr', u'tilbys', u'tildeling', u'tildelingen', u'tildelt', u'tildelte', u'tilfredsstillende', u'tilgang', u'tilgjengelig', u'tilgjengelige', u'tilh', u'tilknytning', u'tilknyttede', u'tilknyttet', u'till', u'tillegg', u'tillitsmann', u'tilretteleggere', u'tilstedev', u'tilsvarende', u'tilsvarer', u'tiltak', u'time', u'times', u'timing', u'tirsdag', u'titan', u'tjenester', u'tlf', u'tm', u'today', u'together', u'tokens', u'toll', u'tom', u'tommy', u'tomra', u'ton', u'tonn', u'tonnage', u'tonnes', u'tons', u'took', u'tools', u'top', u'tor', u'torbj', u'torbjorn', u'tore', u'torgeir', u'torkildsen', u'tors', u'torsdag', u'torstein', u'torunn', u'total', u'totale', u'totalled', u'totalling', u'totalt', u'toth', u'touch', u'towards', u'towed', u'tr', u'track', u'tradable', u'trade', u'traded', u'trademark', u'trademarks', u'trades', u'trading', u'traffic', u'tranche', u'transaction', u'transactions', u'transaksjonen', u'transaksjonene', u'transaksjoner', u'transfer', u'transferable', u'transferred', u'transit', u'transition', u'transmitted', u'transport', u'transportation', u'travis', u'tre', u'treasury', u'treatment', u'tredje', u'trend', u'trends', u'tri', u'trial', u'triggering', u'troms', u'trond', u'trondheim', u'tross', u'trout', u'trs', u'truly', u'trust', u'trustee', u'trusts', u'tt', u'tte', u'tts', u'ttsgroup', u'tuesday', u'tuman', u'tunnel', u'turbot', u'turn', u'turnkey', u'turnover', u'tusen', u'tuvstein', u'tv', u'twitter', u'two', u'type', u'types', u'tyskland', u'uab', u'uavhengig', u'uendret', u'uk', u'uker', u'ulike', u'ultra', u'ulvness', u'umiddelbart', u'unaffected', u'unaudited', u'uncertain', u'uncertainties', u'uncertainty', u'unchanged', u'underlagt', u'underliggende', u'underlying', u'underskudd', u'understanding', u'undertake', u'undertaken', u'undertakes', u'undertakings', u'underway', u'underwriting', u'underwritten', u'undue', u'unexercised', u'unik', u'unique', u'unit', u'united', u'units', u'university', u'unknown', u'unlawful', u'unless', u'unlock', u'unmet', u'unrealized', u'unrelenting', u'unsecured', u'unsubscribe', u'unvested', u'upcoming', u'update', u'updated', u'upgrade', u'upon', u'upper', u'upstream', u'urea', u'us', u'usa', u'usd', u'use', u'used', u'user', u'users', u'uses', u'using', u'ut', u'utbetales', u'utbetalt', u'utbygging', u'utbyggingen', u'utbytte', u'utbyttet', u'uten', u'utenfor', u'utest', u'utf', u'utfordrende', u'utfordringer', u'utforsking', u'utfyllende', u'utgangen', u'utgj', u'utgjorde', u'utilisation', u'utilization', u'utilizing', u'utl', u'utleie', u'utnytte', u'utover', u'utsiktene', u'utslipp', u'utstede', u'utstedelse', u'utstedt', u'utstedte', u'utstyr', u'utvalgte', u'utvikle', u'utvikler', u'utviklet', u'utvikling', u'utviklingen', u'vacc', u'vaccine', u'vaccines', u'vale', u'valg', u'valgkomit', u'valgkomiteen', u'valgkomiteens', u'valgt', u'valid', u'valuable', u'value', u'valued', u'values', u'valuta', u'vangsnes', u'vap', u'var', u'vard', u'vardia', u'variable', u'variety', u'varighet', u'various', u'vary', u'vat', u'vd', u've', u'ved', u'vedlagt', u'vedlagte', u'vedlegg', u'vedlikehold', u'vedr', u'vedtak', u'vedtatt', u'vedtok', u'vegne', u'vehicle', u'vehicles', u'vei', u'veidekke', u'veidekkeansattes', u'veidekkes', u'veivedlikehold', u'vekst', u'veksten', u'vekt', u'velkommen', u'vellykket', u'vending', u'vendors', u'vennligst', u'venold', u'ventes', u'ventet', u'venture', u'ventures', u'venue', u'ver', u'verden', u'verdens', u'verdensledende', u'verdi', u'verdien', u'verdier', u'verdijustering', u'verdikjeden', u'verdipapirer', u'verdipapirhandelloven', u'verdipapirregister', u'verdiskapning', u'verdt', u'verft', u'verification', u'version', u'versjon', u'versus', u'vertical', u'vesentlig', u'vessel', u'vessels', u'vest', u'vested', u'vi', u'via', u'vice', u'vidar', u'video', u'videre', u'videref', u'viderefordeling', u'videreutvikle', u'vietnam', u'view', u'vii', u'vijay', u'vik', u'vika', u'viking', u'viktig', u'viktige', u'viktigste', u'vil', u'vilk', u'villa', u'ville', u'vimpelcom', u'violation', u'viral', u'virket', u'virkning', u'virksomhet', u'virksomheten', u'virksomheter', u'virksomhetsomr', u'virus', u'vise', u'viser', u'vises', u'visibility', u'vision', u'visit', u'visonac', u'vist', u'viste', u'vistin', u'vlcc', u'vlccs', u'vlgc', u'vlgcs', u'voksende', u'vokst', u'volatility', u'volum', u'volume', u'volumes', u'voluntary', u'vote', u'votes', u'voting', u'vp', u'vphl', u'vps', u'vrig', u'vrige', u'vs', u'vunnet', u'vurdere', u'vurderer', u'waage', u'waaler', u'want', u'warrants', u'water', u'way', u'weak', u'weaker', u'weather', u'web', u'webcast', u'webcasted', u'webcastid', u'webpage', u'website', u'webtv', u'wednesday', u'week', u'weeks', u'weifa', u'weight', u'weighted', u'welcome', u'well', u'wells', u'wenche', u'wentworth', u'wentworthresources', u'west', u'western', u'westernbulk', u'whereas', u'whereby', u'whether', u'whole', u'wholly', u'whose', u'wide', u'wilh', u'wilhelmsen', u'william', u'williksen', u'wilmann', u'win', u'wind', u'winning', u'wintershall', u'wire', u'wireless', u'wish', u'within', u'without', u'won', u'words', u'work', u'worked', u'workflow', u'workforce', u'working', u'works', u'world', u'worldwide', u'worth', u'would', u'woulgan', u'write', u'written', u'wrl', u'ws', u'wunderlich', u'wwasa', u'www', u'xxl', u'ya', u'yara', u'yaras', u'yard', u'yd', u'ydsteb', u'ye', u'year', u'yearly', u'years', u'yelsen', u'yemen', u'yen', u'yene', u'yer', u'yere', u'yeste', u'yesterday', u'yet', u'yield', u'yngve', u'york', u'ystein', u'yt', u'ytangen', u'yteknologiske', u'ytreeide', u'ytterligere', u'yvind', u'zalaris', u'zealand', u'zero']\n"
     ]
    }
   ],
   "source": [
    "# Take a look at the words in the vocabulary\n",
    "vocab = vectorizer.get_feature_names()\n",
    "print vocab"
   ]
  },
  {
   "cell_type": "code",
   "execution_count": 26,
   "metadata": {
    "collapsed": true
   },
   "outputs": [],
   "source": [
    "def binary_return(x):\n",
    "    if x > 0:\n",
    "        return 1\n",
    "    else:\n",
    "        return 0"
   ]
  },
  {
   "cell_type": "code",
   "execution_count": 27,
   "metadata": {
    "collapsed": true
   },
   "outputs": [],
   "source": [
    "merged_table_1day[\"Simple return\"] = merged_table_1day[\"Daily return\"].apply(binary_return)"
   ]
  },
  {
   "cell_type": "code",
   "execution_count": 84,
   "metadata": {
    "collapsed": false
   },
   "outputs": [],
   "source": [
    "import numpy as np\n",
    "from sklearn.cross_validation import train_test_split\n",
    "x_train, x_test, y_train, y_test = train_test_split(train_data_features, merged_table_1day[\"Simple return\"], test_size=0.33, random_state=78)"
   ]
  },
  {
   "cell_type": "code",
   "execution_count": 106,
   "metadata": {
    "collapsed": false
   },
   "outputs": [
    {
     "name": "stdout",
     "output_type": "stream",
     "text": [
      "Random Forest Trained\n"
     ]
    }
   ],
   "source": [
    "print \"Random Forest Trained\"\n",
    "from sklearn.ensemble import RandomForestClassifier\n",
    "\n",
    "# Initialize a Random Forest classifier with 100 trees\n",
    "forest = RandomForestClassifier(n_estimators = 10, min_samples_leaf = 175)\n",
    "\n",
    "# Fit the forest to the training set, using the bag of words as \n",
    "# features and the sentiment labels as the response variable\n",
    "#\n",
    "# This may take a few minutes to run\n",
    "forest = forest.fit( x_train, y_train)"
   ]
  },
  {
   "cell_type": "code",
   "execution_count": 107,
   "metadata": {
    "collapsed": false
   },
   "outputs": [],
   "source": [
    "result = forest.predict(x_test)"
   ]
  },
  {
   "cell_type": "code",
   "execution_count": 108,
   "metadata": {
    "collapsed": true
   },
   "outputs": [],
   "source": [
    "from sklearn import metrics"
   ]
  },
  {
   "cell_type": "code",
   "execution_count": 109,
   "metadata": {
    "collapsed": false
   },
   "outputs": [],
   "source": [
    "fpr, tpr, thresholds = metrics.roc_curve(y_test, result)"
   ]
  },
  {
   "cell_type": "code",
   "execution_count": 45,
   "metadata": {
    "collapsed": true
   },
   "outputs": [],
   "source": [
    "#For visulisations\n",
    "import matplotlib.pyplot as plt\n",
    "import seaborn as sns\n",
    "sns.set_style('whitegrid')\n",
    "%matplotlib inline"
   ]
  },
  {
   "cell_type": "code",
   "execution_count": 83,
   "metadata": {
    "collapsed": true
   },
   "outputs": [],
   "source": [
    "fpr_save = fpr\n",
    "tpr_save = tpr"
   ]
  },
  {
   "cell_type": "code",
   "execution_count": 110,
   "metadata": {
    "collapsed": false
   },
   "outputs": [
    {
     "data": {
      "text/plain": [
       "<matplotlib.text.Text at 0x11f348d50>"
      ]
     },
     "execution_count": 110,
     "metadata": {},
     "output_type": "execute_result"
    },
    {
     "data": {
      "image/png": "[encoded data removed]",
      "text/plain": [
       "<matplotlib.figure.Figure at 0x11f352e90>"
      ]
     },
     "metadata": {},
     "output_type": "display_data"
    }
   ],
   "source": [
    "plt.plot(fpr,tpr)\n",
    "plt.plot(fpr_save,tpr_save)\n",
    "plt.plot([0, 1], [0, 1], '--', color=(0.6, 0.6, 0.6), label='Luck')\n",
    "plt.xlabel('False Positive Rate')\n",
    "plt.ylabel('True Positive Rate')"
   ]
  },
  {
   "cell_type": "code",
   "execution_count": 51,
   "metadata": {
    "collapsed": true
   },
   "outputs": [],
   "source": [
    "from sklearn import cross_validation"
   ]
  },
  {
   "cell_type": "code",
   "execution_count": 53,
   "metadata": {
    "collapsed": true
   },
   "outputs": [],
   "source": [
    "k_fold = cross_validation.KFold(len(train_data_features), 3)"
   ]
  },
  {
   "cell_type": "code",
   "execution_count": 82,
   "metadata": {
    "collapsed": false
   },
   "outputs": [
    {
     "name": "stdout",
     "output_type": "stream",
     "text": [
      "0\n",
      "1\n",
      "2\n",
      "0.535827229788\n"
     ]
    }
   ],
   "source": [
    "score = 0\n",
    "forest = RandomForestClassifier(n_estimators = 75, min_samples_leaf = 175)\n",
    "for k, (train, test) in enumerate(k_fold):\n",
    "    print k\n",
    "    X_train, X_test = train_data_features[train], train_data_features[test]\n",
    "    y_train, y_test = merged_table_1day[\"Simple return\"][train], merged_table_1day[\"Simple return\"][test]\n",
    "    \n",
    "    forest = forest.fit( X_train, y_train)\n",
    "    \n",
    "    score = score + forest.score(X_test, y_test)\n",
    "    \n",
    "print score/3"
   ]
  },
  {
   "cell_type": "markdown",
   "metadata": {},
   "source": [
    "10 trees = 0.513756041719\n",
    "50 trees = 0.514767166491\n",
    "100 trees = 0.510791833381 \n",
    "10 trees + 10 min_samples_split  = 0.512047005144 \n",
    "10 trees + 50 min_samples_split  = 0.512919010074\n",
    "10 trees + 75 min_samples_split  = 0.505700984548 \n",
    "10 trees + 10 min_samples_leaf  = 0.522717154257\n",
    "10 trees + 50 min_samples_leaf  = 0.524704514413\n",
    "10 trees + 100 min_samples_leaf  = 0.531643085598\n",
    "10 trees + 150 min_samples_leaf  = 0.533525912548\n",
    "10 trees + 200 min_samples_leaf  = 0.532061517525\n",
    "10 trees + 175 min_samples_leaf = 0.535164736279\n",
    "10 trees + 160 min_samples_leaf = 0.534362801936\n",
    "50 trees + 175 min_samples_leaf = 0.535373915766\n",
    "75 trees + 175 min_samples_leaf = 0.535827229788\n",
    "\n"
   ]
  },
  {
   "cell_type": "code",
   "execution_count": 65,
   "metadata": {
    "collapsed": false
   },
   "outputs": [],
   "source": [
    "from collections import Counter\n",
    "cnt = Counter()\n",
    "for number in merged_table_1day[\"Simple return\"]:\n",
    "    cnt[number] += 1"
   ]
  },
  {
   "cell_type": "code",
   "execution_count": 66,
   "metadata": {
    "collapsed": false
   },
   "outputs": [
    {
     "data": {
      "text/plain": [
       "Counter({0: 15351, 1: 13328})"
      ]
     },
     "execution_count": 66,
     "metadata": {},
     "output_type": "execute_result"
    }
   ],
   "source": [
    "cnt"
   ]
  },
  {
   "cell_type": "code",
   "execution_count": 96,
   "metadata": {
    "collapsed": false
   },
   "outputs": [
    {
     "data": {
      "text/plain": [
       "array([ 0.        ,  0.01094527,  1.        ])"
      ]
     },
     "execution_count": 96,
     "metadata": {},
     "output_type": "execute_result"
    }
   ],
   "source": [
    "fpr"
   ]
  },
  {
   "cell_type": "code",
   "execution_count": null,
   "metadata": {
    "collapsed": true
   },
   "outputs": [],
   "source": []
  }
 ],
 "metadata": {
  "kernelspec": {
   "display_name": "Python 2",
   "language": "python",
   "name": "python2"
  },
  "language_info": {
   "codemirror_mode": {
    "name": "ipython",
    "version": 2
   },
   "file_extension": ".py",
   "mimetype": "text/x-python",
   "name": "python",
   "nbconvert_exporter": "python",
   "pygments_lexer": "ipython2",
   "version": "2.7.9"
  }
 },
 "nbformat": 4,
 "nbformat_minor": 0
}
